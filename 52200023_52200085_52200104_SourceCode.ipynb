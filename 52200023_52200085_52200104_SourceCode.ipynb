{
  "nbformat": 4,
  "nbformat_minor": 0,
  "metadata": {
    "colab": {
      "provenance": []
    },
    "kernelspec": {
      "name": "python3",
      "display_name": "Python 3"
    },
    "language_info": {
      "name": "python"
    }
  },
  "cells": [
    {
      "cell_type": "markdown",
      "source": [
        "# **Cài đặt các thư viện sử dụng**"
      ],
      "metadata": {
        "id": "LCRgY71YLQv9"
      }
    },
    {
      "cell_type": "code",
      "source": [
        "!pip install lazypredict"
      ],
      "metadata": {
        "colab": {
          "base_uri": "https://localhost:8080/"
        },
        "id": "EcEOMPZXoTUS",
        "outputId": "9eb09669-df93-41ce-e7b5-0d4b21818c95",
        "collapsed": true
      },
      "execution_count": null,
      "outputs": [
        {
          "output_type": "stream",
          "name": "stdout",
          "text": [
            "Requirement already satisfied: lazypredict in /usr/local/lib/python3.10/dist-packages (0.2.13)\n",
            "Requirement already satisfied: click in /usr/local/lib/python3.10/dist-packages (from lazypredict) (8.1.7)\n",
            "Requirement already satisfied: scikit-learn in /usr/local/lib/python3.10/dist-packages (from lazypredict) (1.6.0)\n",
            "Requirement already satisfied: pandas in /usr/local/lib/python3.10/dist-packages (from lazypredict) (2.2.2)\n",
            "Requirement already satisfied: tqdm in /usr/local/lib/python3.10/dist-packages (from lazypredict) (4.67.1)\n",
            "Requirement already satisfied: joblib in /usr/local/lib/python3.10/dist-packages (from lazypredict) (1.4.2)\n",
            "Requirement already satisfied: lightgbm in /usr/local/lib/python3.10/dist-packages (from lazypredict) (4.5.0)\n",
            "Requirement already satisfied: xgboost in /usr/local/lib/python3.10/dist-packages (from lazypredict) (2.1.3)\n",
            "Requirement already satisfied: numpy>=1.17.0 in /usr/local/lib/python3.10/dist-packages (from lightgbm->lazypredict) (1.26.4)\n",
            "Requirement already satisfied: scipy in /usr/local/lib/python3.10/dist-packages (from lightgbm->lazypredict) (1.13.1)\n",
            "Requirement already satisfied: python-dateutil>=2.8.2 in /usr/local/lib/python3.10/dist-packages (from pandas->lazypredict) (2.8.2)\n",
            "Requirement already satisfied: pytz>=2020.1 in /usr/local/lib/python3.10/dist-packages (from pandas->lazypredict) (2024.2)\n",
            "Requirement already satisfied: tzdata>=2022.7 in /usr/local/lib/python3.10/dist-packages (from pandas->lazypredict) (2024.2)\n",
            "Requirement already satisfied: threadpoolctl>=3.1.0 in /usr/local/lib/python3.10/dist-packages (from scikit-learn->lazypredict) (3.5.0)\n",
            "Requirement already satisfied: nvidia-nccl-cu12 in /usr/local/lib/python3.10/dist-packages (from xgboost->lazypredict) (2.23.4)\n",
            "Requirement already satisfied: six>=1.5 in /usr/local/lib/python3.10/dist-packages (from python-dateutil>=2.8.2->pandas->lazypredict) (1.17.0)\n"
          ]
        }
      ]
    },
    {
      "cell_type": "code",
      "source": [
        "!pip install keras"
      ],
      "metadata": {
        "colab": {
          "base_uri": "https://localhost:8080/"
        },
        "id": "gt_reGF5sl80",
        "outputId": "c8d519a5-4a27-40e8-c58d-fb16e4cd151e",
        "collapsed": true
      },
      "execution_count": null,
      "outputs": [
        {
          "output_type": "stream",
          "name": "stdout",
          "text": [
            "Requirement already satisfied: keras in /usr/local/lib/python3.10/dist-packages (3.5.0)\n",
            "Requirement already satisfied: absl-py in /usr/local/lib/python3.10/dist-packages (from keras) (1.4.0)\n",
            "Requirement already satisfied: numpy in /usr/local/lib/python3.10/dist-packages (from keras) (1.26.4)\n",
            "Requirement already satisfied: rich in /usr/local/lib/python3.10/dist-packages (from keras) (13.9.4)\n",
            "Requirement already satisfied: namex in /usr/local/lib/python3.10/dist-packages (from keras) (0.0.8)\n",
            "Requirement already satisfied: h5py in /usr/local/lib/python3.10/dist-packages (from keras) (3.12.1)\n",
            "Requirement already satisfied: optree in /usr/local/lib/python3.10/dist-packages (from keras) (0.13.1)\n",
            "Requirement already satisfied: ml-dtypes in /usr/local/lib/python3.10/dist-packages (from keras) (0.4.1)\n",
            "Requirement already satisfied: packaging in /usr/local/lib/python3.10/dist-packages (from keras) (24.2)\n",
            "Requirement already satisfied: typing-extensions>=4.5.0 in /usr/local/lib/python3.10/dist-packages (from optree->keras) (4.12.2)\n",
            "Requirement already satisfied: markdown-it-py>=2.2.0 in /usr/local/lib/python3.10/dist-packages (from rich->keras) (3.0.0)\n",
            "Requirement already satisfied: pygments<3.0.0,>=2.13.0 in /usr/local/lib/python3.10/dist-packages (from rich->keras) (2.18.0)\n",
            "Requirement already satisfied: mdurl~=0.1 in /usr/local/lib/python3.10/dist-packages (from markdown-it-py>=2.2.0->rich->keras) (0.1.2)\n"
          ]
        }
      ]
    },
    {
      "cell_type": "code",
      "source": [
        "!pip install ucimlrepo"
      ],
      "metadata": {
        "colab": {
          "base_uri": "https://localhost:8080/"
        },
        "id": "J_-5PhhYIfKG",
        "outputId": "d59725be-a13e-40ae-82ba-43e1cd9cca66",
        "collapsed": true
      },
      "execution_count": null,
      "outputs": [
        {
          "output_type": "stream",
          "name": "stdout",
          "text": [
            "Requirement already satisfied: ucimlrepo in /usr/local/lib/python3.10/dist-packages (0.0.7)\n",
            "Requirement already satisfied: pandas>=1.0.0 in /usr/local/lib/python3.10/dist-packages (from ucimlrepo) (2.2.2)\n",
            "Requirement already satisfied: certifi>=2020.12.5 in /usr/local/lib/python3.10/dist-packages (from ucimlrepo) (2024.12.14)\n",
            "Requirement already satisfied: numpy>=1.22.4 in /usr/local/lib/python3.10/dist-packages (from pandas>=1.0.0->ucimlrepo) (1.26.4)\n",
            "Requirement already satisfied: python-dateutil>=2.8.2 in /usr/local/lib/python3.10/dist-packages (from pandas>=1.0.0->ucimlrepo) (2.8.2)\n",
            "Requirement already satisfied: pytz>=2020.1 in /usr/local/lib/python3.10/dist-packages (from pandas>=1.0.0->ucimlrepo) (2024.2)\n",
            "Requirement already satisfied: tzdata>=2022.7 in /usr/local/lib/python3.10/dist-packages (from pandas>=1.0.0->ucimlrepo) (2024.2)\n",
            "Requirement already satisfied: six>=1.5 in /usr/local/lib/python3.10/dist-packages (from python-dateutil>=2.8.2->pandas>=1.0.0->ucimlrepo) (1.17.0)\n"
          ]
        }
      ]
    },
    {
      "cell_type": "markdown",
      "source": [
        "# **Câu 1:**"
      ],
      "metadata": {
        "id": "-KB2vud7IjJN"
      }
    },
    {
      "cell_type": "code",
      "source": [
        "from ucimlrepo import fetch_ucirepo\n",
        "\n",
        "# fetch dataset\n",
        "wine_quality = fetch_ucirepo(id=186)\n",
        "\n",
        "# data (as pandas dataframes)\n",
        "X = wine_quality.data.features\n",
        "y = wine_quality.data.targets\n",
        "\n",
        "# metadata\n",
        "print(wine_quality.metadata)\n",
        "\n",
        "# variable information\n",
        "print(wine_quality.variables)"
      ],
      "metadata": {
        "colab": {
          "base_uri": "https://localhost:8080/"
        },
        "id": "X1rMMGXMIlg3",
        "outputId": "5cde0676-9052-42ab-dfa3-069082f04298"
      },
      "execution_count": null,
      "outputs": [
        {
          "output_type": "stream",
          "name": "stdout",
          "text": [
            "{'uci_id': 186, 'name': 'Wine Quality', 'repository_url': 'https://archive.ics.uci.edu/dataset/186/wine+quality', 'data_url': 'https://archive.ics.uci.edu/static/public/186/data.csv', 'abstract': 'Two datasets are included, related to red and white vinho verde wine samples, from the north of Portugal. The goal is to model wine quality based on physicochemical tests (see [Cortez et al., 2009], http://www3.dsi.uminho.pt/pcortez/wine/).', 'area': 'Business', 'tasks': ['Classification', 'Regression'], 'characteristics': ['Multivariate'], 'num_instances': 4898, 'num_features': 11, 'feature_types': ['Real'], 'demographics': [], 'target_col': ['quality'], 'index_col': None, 'has_missing_values': 'no', 'missing_values_symbol': None, 'year_of_dataset_creation': 2009, 'last_updated': 'Wed Nov 15 2023', 'dataset_doi': '10.24432/C56S3T', 'creators': ['Paulo Cortez', 'A. Cerdeira', 'F. Almeida', 'T. Matos', 'J. Reis'], 'intro_paper': {'ID': 252, 'type': 'NATIVE', 'title': 'Modeling wine preferences by data mining from physicochemical properties', 'authors': 'P. Cortez, A. Cerdeira, Fernando Almeida, Telmo Matos, J. Reis', 'venue': 'Decision Support Systems', 'year': 2009, 'journal': None, 'DOI': None, 'URL': 'https://www.semanticscholar.org/paper/Modeling-wine-preferences-by-data-mining-from-Cortez-Cerdeira/bf15a0ccc14ac1deb5cea570c870389c16be019c', 'sha': None, 'corpus': None, 'arxiv': None, 'mag': None, 'acl': None, 'pmid': None, 'pmcid': None}, 'additional_info': {'summary': 'The two datasets are related to red and white variants of the Portuguese \"Vinho Verde\" wine. For more details, consult: http://www.vinhoverde.pt/en/ or the reference [Cortez et al., 2009].  Due to privacy and logistic issues, only physicochemical (inputs) and sensory (the output) variables are available (e.g. there is no data about grape types, wine brand, wine selling price, etc.).\\n\\nThese datasets can be viewed as classification or regression tasks.  The classes are ordered and not balanced (e.g. there are many more normal wines than excellent or poor ones). Outlier detection algorithms could be used to detect the few excellent or poor wines. Also, we are not sure if all input variables are relevant. So it could be interesting to test feature selection methods.\\n', 'purpose': None, 'funded_by': None, 'instances_represent': None, 'recommended_data_splits': None, 'sensitive_data': None, 'preprocessing_description': None, 'variable_info': 'For more information, read [Cortez et al., 2009].\\r\\nInput variables (based on physicochemical tests):\\r\\n   1 - fixed acidity\\r\\n   2 - volatile acidity\\r\\n   3 - citric acid\\r\\n   4 - residual sugar\\r\\n   5 - chlorides\\r\\n   6 - free sulfur dioxide\\r\\n   7 - total sulfur dioxide\\r\\n   8 - density\\r\\n   9 - pH\\r\\n   10 - sulphates\\r\\n   11 - alcohol\\r\\nOutput variable (based on sensory data): \\r\\n   12 - quality (score between 0 and 10)', 'citation': None}}\n",
            "                    name     role         type demographic  \\\n",
            "0          fixed_acidity  Feature   Continuous        None   \n",
            "1       volatile_acidity  Feature   Continuous        None   \n",
            "2            citric_acid  Feature   Continuous        None   \n",
            "3         residual_sugar  Feature   Continuous        None   \n",
            "4              chlorides  Feature   Continuous        None   \n",
            "5    free_sulfur_dioxide  Feature   Continuous        None   \n",
            "6   total_sulfur_dioxide  Feature   Continuous        None   \n",
            "7                density  Feature   Continuous        None   \n",
            "8                     pH  Feature   Continuous        None   \n",
            "9              sulphates  Feature   Continuous        None   \n",
            "10               alcohol  Feature   Continuous        None   \n",
            "11               quality   Target      Integer        None   \n",
            "12                 color    Other  Categorical        None   \n",
            "\n",
            "               description units missing_values  \n",
            "0                     None  None             no  \n",
            "1                     None  None             no  \n",
            "2                     None  None             no  \n",
            "3                     None  None             no  \n",
            "4                     None  None             no  \n",
            "5                     None  None             no  \n",
            "6                     None  None             no  \n",
            "7                     None  None             no  \n",
            "8                     None  None             no  \n",
            "9                     None  None             no  \n",
            "10                    None  None             no  \n",
            "11  score between 0 and 10  None             no  \n",
            "12            red or white  None             no  \n"
          ]
        }
      ]
    },
    {
      "cell_type": "code",
      "source": [
        "import pandas as pd\n",
        "from sklearn.model_selection import train_test_split\n",
        "from sklearn.preprocessing import StandardScaler\n",
        "from ucimlrepo import fetch_ucirepo\n",
        "\n",
        "# Fetch dataset\n",
        "wine_quality = fetch_ucirepo(id=186)\n",
        "\n",
        "# Extract features and targets\n",
        "X = wine_quality.data.features\n",
        "y = wine_quality.data.targets\n",
        "\n",
        "# Kiểm tra và xử lý dữ liệu thiếu (nếu có)\n",
        "print(\"Kiểm tra giá trị thiếu trong dữ liệu:\")\n",
        "print(X.isnull().sum())  # Kiểm tra dữ liệu thiếu trong các đặc trưng\n",
        "\n",
        "# Nếu y là DataFrame, chuyển thành Series hoặc ndarray\n",
        "if isinstance(y, pd.DataFrame):\n",
        "    y = y.values.ravel()  # Chuyển thành mảng 1D\n",
        "\n",
        "print(\"Mục tiêu (y):\")\n",
        "print(pd.Series(y).isnull().sum())  # Kiểm tra dữ liệu thiếu trong mục tiêu\n",
        "\n",
        "# Chuẩn hóa dữ liệu: Đưa tất cả các đặc trưng về cùng một tỉ lệ\n",
        "scaler = StandardScaler()\n",
        "X_scaled = scaler.fit_transform(X)\n",
        "\n",
        "# Kiểm tra sau khi chuẩn hóa\n",
        "print(\"\\n5 dòng đầu tiên của dữ liệu đã chuẩn hóa:\")\n",
        "print(X_scaled[:5])\n",
        "\n",
        "# Chia bộ dữ liệu thành tập huấn luyện và tập kiểm tra (80% huấn luyện, 20% kiểm tra)\n",
        "X_train, X_test, y_train, y_test = train_test_split(X_scaled, y, test_size=0.2, random_state=42)\n",
        "\n",
        "print(\"\\nKích thước bộ dữ liệu huấn luyện:\", X_train.shape)\n",
        "print(\"Kích thước bộ dữ liệu kiểm tra:\", X_test.shape)\n",
        "\n",
        "# Kiểm tra 5 dòng đầu tiên của bộ dữ liệu huấn luyện và kiểm tra\n",
        "print(\"\\n5 dòng đầu tiên của X_train (dữ liệu huấn luyện) đã chuẩn hóa:\")\n",
        "print(X_train[:5])\n",
        "print(\"\\n5 dòng đầu tiên của X_test (dữ liệu kiểm tra) đã chuẩn hóa:\")\n",
        "print(X_test[:5])"
      ],
      "metadata": {
        "colab": {
          "base_uri": "https://localhost:8080/"
        },
        "id": "x1VUWlsoJks0",
        "outputId": "43ad2724-104f-4440-c1ec-4e33b8e632b7"
      },
      "execution_count": null,
      "outputs": [
        {
          "output_type": "stream",
          "name": "stdout",
          "text": [
            "Kiểm tra giá trị thiếu trong dữ liệu:\n",
            "fixed_acidity           0\n",
            "volatile_acidity        0\n",
            "citric_acid             0\n",
            "residual_sugar          0\n",
            "chlorides               0\n",
            "free_sulfur_dioxide     0\n",
            "total_sulfur_dioxide    0\n",
            "density                 0\n",
            "pH                      0\n",
            "sulphates               0\n",
            "alcohol                 0\n",
            "dtype: int64\n",
            "Mục tiêu (y):\n",
            "0\n",
            "\n",
            "5 dòng đầu tiên của dữ liệu đã chuẩn hóa:\n",
            "[[ 0.14247327  2.18883292 -2.19283252 -0.7447781   0.56995782 -1.10013986\n",
            "  -1.44635852  1.03499282  1.81308951  0.19309677 -0.91546416]\n",
            " [ 0.45103572  3.28223494 -2.19283252 -0.59764007  1.1979747  -0.31132009\n",
            "  -0.86246863  0.70148631 -0.11507303  0.99957862 -0.58006813]\n",
            " [ 0.45103572  2.55330026 -1.91755268 -0.66069923  1.02669737 -0.87476278\n",
            "  -1.09248586  0.76818761  0.25811972  0.79795816 -0.58006813]\n",
            " [ 3.07381662 -0.36243847  1.66108525 -0.7447781   0.54141159 -0.76207424\n",
            "  -0.98632406  1.10169412 -0.3638682   0.32751041 -0.58006813]\n",
            " [ 0.14247327  2.18883292 -2.19283252 -0.7447781   0.56995782 -1.10013986\n",
            "  -1.44635852  1.03499282  1.81308951  0.19309677 -0.91546416]]\n",
            "\n",
            "Kích thước bộ dữ liệu huấn luyện: (5197, 11)\n",
            "Kích thước bộ dữ liệu kiểm tra: (1300, 11)\n",
            "\n",
            "5 dòng đầu tiên của X_train (dữ liệu huấn luyện) đã chuẩn hóa:\n",
            "[[-0.47465165 -0.6054167   0.21586609  0.47436559 -0.71462218  0.30846688\n",
            "   0.34069844 -0.29903322 -0.17727182 -1.08383282  0.00687492]\n",
            " [ 0.8367388  -0.36243847  1.11052557 -0.70273867  1.05524359 -1.38186121\n",
            "  -1.83561846 -0.2056514   0.25811972  0.5963377   1.60000607]\n",
            " [ 0.37389511  2.27994976 -2.12401256 -0.70273867  0.22740315  0.02674553\n",
            "  -1.28711582 -0.32904881  1.19110159  0.26030359  1.09691202]\n",
            " [-1.55462025  0.18426254  0.07822617 -0.89191614 -0.80026085 -0.98745132\n",
            "  -0.61475776 -1.49965665  0.94230643 -1.016626    1.01306302]\n",
            " [-0.47465165 -0.48392759  1.66108525  2.09288393 -0.08660529  0.0830898\n",
            "   0.44686024  1.13504477 -0.67486215 -0.27735097 -0.99931317]]\n",
            "\n",
            "5 dòng đầu tiên của X_test (dữ liệu kiểm tra) đã chuẩn hóa:\n",
            "[[-0.16608919 -1.0306286   2.89984453  1.54637124 -0.31497507 -0.36766435\n",
            "   0.18145574 -0.16563062  0.25811972 -1.016626    1.43230805]\n",
            " [ 0.37389511  1.82436558 -0.74761336 -0.68171895  0.59850404  0.0830898\n",
            "   0.30531117  0.3012785   0.32031851 -0.54617826 -0.49621913]\n",
            " [-0.32037042  0.30575165  0.14704613  0.41130643 -1.02863062  0.42115542\n",
            "   0.30531117 -0.85932416 -0.23947061 -0.61338508  1.26461004]\n",
            " [-0.70607349 -0.36243847  1.04170561  1.21005574 -0.45770618  1.71707362\n",
            "   1.18999284  0.40800058 -0.61266336 -0.14293733 -0.83161516]\n",
            " [ 0.14247327  0.06277343 -0.81643332  1.77758815 -0.05805907  1.82976216\n",
            "   2.00389997  1.39517985 -0.67486215 -0.21014415 -1.3347092 ]]\n"
          ]
        }
      ]
    },
    {
      "cell_type": "code",
      "source": [
        "import numpy as np\n",
        "import pandas as pd\n",
        "from sklearn.model_selection import train_test_split\n",
        "from sklearn.preprocessing import StandardScaler\n",
        "from sklearn.metrics import mean_squared_error\n",
        "from keras.models import Sequential\n",
        "from keras.layers import Dense\n",
        "from keras.optimizers import SGD, Adam, Adagrad, RMSprop\n",
        "from ucimlrepo import fetch_ucirepo\n",
        "import matplotlib.pyplot as plt\n",
        "\n",
        "# Hàm xây dựng mô hình\n",
        "def build_model(optimizer):\n",
        "    model = Sequential()\n",
        "    model.add(Dense(64, activation='relu', input_dim = X_train.shape[1]))\n",
        "    model.add(Dense(32, activation='relu'))\n",
        "    model.add(Dense(1))  # Layer cuối với một unit cho hồi quy\n",
        "    model.compile(optimizer=optimizer, loss='mse', metrics=['mse'])\n",
        "    return model\n",
        "\n",
        "# Các optimizer\n",
        "optimizers = {\n",
        "    'SGD': SGD(),\n",
        "    'Adam': Adam(),\n",
        "    'Adagrad': Adagrad(),\n",
        "    'RMSprop': RMSprop()\n",
        "}\n",
        "\n",
        "# Khởi tạo danh sách để lưu kết quả\n",
        "results = {}\n",
        "\n",
        "# Huấn luyện mô hình với từng phương pháp tối ưu hóa\n",
        "for opt_name, optimizer in optimizers.items():\n",
        "    print(f\"\\nĐang huấn luyện với {opt_name}...\")\n",
        "\n",
        "    model = build_model(optimizer)\n",
        "    history = model.fit(X_train, y_train, epochs=50, batch_size=32, validation_data=(X_test, y_test), verbose=0)\n",
        "\n",
        "    # Dự đoán và tính toán MSE\n",
        "    y_pred = model.predict(X_test)\n",
        "    mse = mean_squared_error(y_test, y_pred)\n",
        "    results[opt_name] = mse\n",
        "\n",
        "    # Vẽ đồ thị loss theo từng epoch\n",
        "    plt.plot(history.history['loss'], label=f'{opt_name} Loss')\n",
        "\n",
        "# Hiển thị đồ thị loss\n",
        "plt.title('Loss trong quá trình huấn luyện (Các phương pháp tối ưu hóa)')\n",
        "plt.xlabel('Epochs')\n",
        "plt.ylabel('Loss')\n",
        "plt.legend()\n",
        "plt.show()\n",
        "\n",
        "# In kết quả so sánh MSE giữa các phương pháp\n",
        "print(\"\\nSo sánh MSE giữa các phương pháp tối ưu hóa:\")\n",
        "for opt_name, mse in results.items():\n",
        "    print(f\"{opt_name}: MSE = {mse}\")"
      ],
      "metadata": {
        "colab": {
          "base_uri": "https://localhost:8080/",
          "height": 801
        },
        "id": "k3AkDIFvKF3x",
        "outputId": "69935249-eaf3-4ef4-f247-9ce2efae52f8"
      },
      "execution_count": null,
      "outputs": [
        {
          "output_type": "stream",
          "name": "stdout",
          "text": [
            "\n",
            "Đang huấn luyện với SGD...\n",
            "\u001b[1m41/41\u001b[0m \u001b[32m━━━━━━━━━━━━━━━━━━━━\u001b[0m\u001b[37m\u001b[0m \u001b[1m0s\u001b[0m 2ms/step\n",
            "\n",
            "Đang huấn luyện với Adam...\n",
            "\u001b[1m41/41\u001b[0m \u001b[32m━━━━━━━━━━━━━━━━━━━━\u001b[0m\u001b[37m\u001b[0m \u001b[1m0s\u001b[0m 2ms/step\n",
            "\n",
            "Đang huấn luyện với Adagrad...\n",
            "\u001b[1m41/41\u001b[0m \u001b[32m━━━━━━━━━━━━━━━━━━━━\u001b[0m\u001b[37m\u001b[0m \u001b[1m0s\u001b[0m 2ms/step\n",
            "\n",
            "Đang huấn luyện với RMSprop...\n",
            "\u001b[1m41/41\u001b[0m \u001b[32m━━━━━━━━━━━━━━━━━━━━\u001b[0m\u001b[37m\u001b[0m \u001b[1m0s\u001b[0m 2ms/step\n"
          ]
        },
        {
          "output_type": "display_data",
          "data": {
            "text/plain": [
              "<Figure size 640x480 with 1 Axes>"
            ],
            "image/png": "[encoded data removed]"
          },
          "metadata": {}
        },
        {
          "output_type": "stream",
          "name": "stdout",
          "text": [
            "\n",
            "So sánh MSE giữa các phương pháp tối ưu hóa:\n",
            "SGD: MSE = 0.4923499524593353\n",
            "Adam: MSE = 0.5232585072517395\n",
            "Adagrad: MSE = 2.0418448448181152\n",
            "RMSprop: MSE = 0.4703974425792694\n"
          ]
        }
      ]
    },
    {
      "cell_type": "markdown",
      "source": [
        "# **Câu 2**"
      ],
      "metadata": {
        "id": "zR_E2uPGK2AM"
      }
    },
    {
      "cell_type": "markdown",
      "source": [
        "# **Tạo bộ Datasets về Stock_Price**"
      ],
      "metadata": {
        "id": "jATzHWzqH9kX"
      }
    },
    {
      "cell_type": "code",
      "execution_count": null,
      "metadata": {
        "colab": {
          "base_uri": "https://localhost:8080/"
        },
        "id": "R9hNXz4pHF3b",
        "outputId": "72fd4c71-190c-4d12-dc24-526b4eae0680"
      },
      "outputs": [
        {
          "output_type": "stream",
          "name": "stdout",
          "text": [
            "        date industry_type  opening_price  closing_price  volume  gdp_growth  \\\n",
            "0 2015-01-01        Energy         190.54         185.42   57565        4.13   \n",
            "1 2015-01-02       Finance         426.16         421.24  103379        0.57   \n",
            "2 2015-01-03        Retail         290.08         294.93  576331        0.75   \n",
            "3 2015-01-04       Finance         356.67         357.05  499847        2.39   \n",
            "4 2015-01-05       Finance         220.26         222.37  818851       -1.45   \n",
            "\n",
            "   inflation_rate  interest_rate  unemployment_rate  stock_market_index  \\\n",
            "0            5.44           2.74               7.25             5219.46   \n",
            "1            4.35           4.86               2.86             5036.66   \n",
            "2            9.88           2.13               3.47             6293.92   \n",
            "3            6.19           4.67               9.21             2276.63   \n",
            "4            7.11           4.25               9.92             3924.55   \n",
            "\n",
            "   month day_of_week  quarter  day_of_year  \n",
            "0      1    Thursday        1            1  \n",
            "1      1      Friday        1            2  \n",
            "2      1    Saturday        1            3  \n",
            "3      1      Sunday        1            4  \n",
            "4      1      Monday        1            5  \n"
          ]
        }
      ],
      "source": [
        "import pandas as pd\n",
        "import numpy as np\n",
        "import random\n",
        "\n",
        "# Số lượng hàng\n",
        "num_rows = 2000\n",
        "\n",
        "# Tạo dữ liệu mẫu\n",
        "date_range = pd.date_range(start=\"2015-01-01\", periods=num_rows)\n",
        "industry_types = random.choices(['Tech', 'Finance', 'Health', 'Energy', 'Retail'], k=num_rows)\n",
        "opening_prices = np.round(np.random.uniform(50, 500, num_rows), 2)\n",
        "closing_prices = np.round(opening_prices + np.random.uniform(-10, 10, num_rows), 2)\n",
        "volumes = np.random.randint(1000, 1000000, num_rows)\n",
        "gdp_growth = np.round(np.random.uniform(-2, 5, num_rows), 2)\n",
        "inflation_rate = np.round(np.random.uniform(0, 10, num_rows), 2)\n",
        "interest_rate = np.round(np.random.uniform(0, 5, num_rows), 2)\n",
        "unemployment_rate = np.round(np.random.uniform(2, 10, num_rows), 2)\n",
        "stock_market_index = np.round(np.random.uniform(2000, 10000, num_rows), 2)\n",
        "months = [date.month for date in date_range]\n",
        "days_of_week = [date.day_name() for date in date_range]\n",
        "quarters = [(date.month - 1) // 3 + 1 for date in date_range]\n",
        "day_of_year = [date.timetuple().tm_yday for date in date_range]\n",
        "\n",
        "# Tạo DataFrame\n",
        "df = pd.DataFrame({\n",
        "    'date': date_range,\n",
        "    'industry_type': industry_types,\n",
        "    'opening_price': opening_prices,\n",
        "    'closing_price': closing_prices,\n",
        "    'volume': volumes,\n",
        "    'gdp_growth': gdp_growth,\n",
        "    'inflation_rate': inflation_rate,\n",
        "    'interest_rate': interest_rate,\n",
        "    'unemployment_rate': unemployment_rate,\n",
        "    'stock_market_index': stock_market_index,\n",
        "    'month': months,\n",
        "    'day_of_week': days_of_week,\n",
        "    'quarter': quarters,\n",
        "    'day_of_year': day_of_year\n",
        "})\n",
        "\n",
        "# Hiển thị 5 dòng đầu tiên của dataset\n",
        "print(df.head())"
      ]
    },
    {
      "cell_type": "code",
      "source": [
        "from google.colab import files\n",
        "\n",
        "# Lưu dataset thành file CSV\n",
        "file_name = \"stock_price_dataset.csv\"\n",
        "df.to_csv(file_name, index=False)\n",
        "\n",
        "# Tải file về\n",
        "print(f\"File '{file_name}' đã được tạo. Bắt đầu tải xuống...\")\n",
        "files.download(file_name)"
      ],
      "metadata": {
        "id": "mVOeqISSosn3",
        "colab": {
          "base_uri": "https://localhost:8080/",
          "height": 34
        },
        "outputId": "321ed804-dc54-4926-b8e3-28e724bae102"
      },
      "execution_count": null,
      "outputs": [
        {
          "output_type": "stream",
          "name": "stdout",
          "text": [
            "File 'stock_price_dataset.csv' đã được tạo. Bắt đầu tải xuống...\n"
          ]
        },
        {
          "output_type": "display_data",
          "data": {
            "text/plain": [
              "<IPython.core.display.Javascript object>"
            ],
            "application/javascript": [
              "\n",
              "    async function download(id, filename, size) {\n",
              "      if (!google.colab.kernel.accessAllowed) {\n",
              "        return;\n",
              "      }\n",
              "      const div = document.createElement('div');\n",
              "      const label = document.createElement('label');\n",
              "      label.textContent = `Downloading \"${filename}\": `;\n",
              "      div.appendChild(label);\n",
              "      const progress = document.createElement('progress');\n",
              "      progress.max = size;\n",
              "      div.appendChild(progress);\n",
              "      document.body.appendChild(div);\n",
              "\n",
              "      const buffers = [];\n",
              "      let downloaded = 0;\n",
              "\n",
              "      const channel = await google.colab.kernel.comms.open(id);\n",
              "      // Send a message to notify the kernel that we're ready.\n",
              "      channel.send({})\n",
              "\n",
              "      for await (const message of channel.messages) {\n",
              "        // Send a message to notify the kernel that we're ready.\n",
              "        channel.send({})\n",
              "        if (message.buffers) {\n",
              "          for (const buffer of message.buffers) {\n",
              "            buffers.push(buffer);\n",
              "            downloaded += buffer.byteLength;\n",
              "            progress.value = downloaded;\n",
              "          }\n",
              "        }\n",
              "      }\n",
              "      const blob = new Blob(buffers, {type: 'application/binary'});\n",
              "      const a = document.createElement('a');\n",
              "      a.href = window.URL.createObjectURL(blob);\n",
              "      a.download = filename;\n",
              "      div.appendChild(a);\n",
              "      a.click();\n",
              "      div.remove();\n",
              "    }\n",
              "  "
            ]
          },
          "metadata": {}
        },
        {
          "output_type": "display_data",
          "data": {
            "text/plain": [
              "<IPython.core.display.Javascript object>"
            ],
            "application/javascript": [
              "download(\"download_e2673966-fc4d-41b8-af91-4ea5185cbcbe\", \"stock_price_dataset.csv\", 164397)"
            ]
          },
          "metadata": {}
        }
      ]
    },
    {
      "cell_type": "markdown",
      "source": [
        "# **Tiền xử lý dữ liệu và chọn mô hình tốt nhất**"
      ],
      "metadata": {
        "id": "_bGBXr2-KY5D"
      }
    },
    {
      "cell_type": "code",
      "source": [
        "from google.colab import files\n",
        "import pandas as pd\n",
        "from sklearn.preprocessing import StandardScaler\n",
        "from sklearn.model_selection import train_test_split\n",
        "from lazypredict.Supervised import LazyRegressor\n",
        "\n",
        "# 1. Tải file lên từ máy tính\n",
        "uploaded = files.upload()\n",
        "file_name = list(uploaded.keys())[0]\n",
        "\n",
        "# 2. Đọc file CSV\n",
        "df = pd.read_csv(file_name)\n",
        "\n",
        "# 3. Xóa null/nan\n",
        "df.dropna(inplace=True)\n",
        "\n",
        "# 4. Xóa duplicated\n",
        "df.drop_duplicates(inplace=True)\n",
        "\n",
        "# 5. Xóa điểm ngoại lai (theo phương pháp IQR)\n",
        "def remove_outliers(df, columns):\n",
        "    for col in columns:\n",
        "        Q1 = df[col].quantile(0.25)\n",
        "        Q3 = df[col].quantile(0.75)\n",
        "        IQR = Q3 - Q1\n",
        "        lower_bound = Q1 - 1.5 * IQR\n",
        "        upper_bound = Q3 + 1.5 * IQR\n",
        "        df = df[(df[col] >= lower_bound) & (df[col] <= upper_bound)]\n",
        "    return df\n",
        "\n",
        "# Xác định các cột số cần xử lý ngoại lai\n",
        "numeric_columns = ['opening_price', 'closing_price', 'volume',\n",
        "                   'gdp_growth', 'inflation_rate', 'interest_rate',\n",
        "                   'unemployment_rate', 'stock_market_index']\n",
        "df = remove_outliers(df, numeric_columns)\n",
        "\n",
        "# 6. Chuẩn hóa dữ liệu\n",
        "scaler = StandardScaler()\n",
        "df[numeric_columns] = scaler.fit_transform(df[numeric_columns])\n",
        "\n",
        "# 7. Chuyển đổi cột categorical thành dạng số (one-hot encoding)\n",
        "df = pd.get_dummies(df, columns=['industry_type', 'day_of_week', 'month', 'quarter'], drop_first=True)\n",
        "\n",
        "# 8. Chia train/test\n",
        "X = df.drop(['opening_price', 'date'], axis=1)  # 'opening_price' là biến mục tiêu\n",
        "y = df['opening_price']\n",
        "X_train, X_test, y_train, y_test = train_test_split(X, y, test_size=0.2, random_state=42)\n",
        "\n",
        "# 9. Sử dụng LazyRegressor\n",
        "reg = LazyRegressor(verbose=0, ignore_warnings=True, custom_metric=None)\n",
        "models, predictions = reg.fit(X_train, X_test, y_train, y_test)\n",
        "\n",
        "print(models)\n",
        "\n",
        "models.to_csv(\"lazy_regressor_results.csv\")\n",
        "\n",
        "files.download(\"lazy_regressor_results.csv\")\n",
        "print(\"Kết quả đã được lưu vào 'lazy_regressor_results.csv'\")"
      ],
      "metadata": {
        "colab": {
          "base_uri": "https://localhost:8080/",
          "height": 907
        },
        "id": "D3EKQIXxK-Qg",
        "outputId": "20a38c75-d6d8-4709-8be6-d909dbd0ee3d"
      },
      "execution_count": 85,
      "outputs": [
        {
          "output_type": "display_data",
          "data": {
            "text/plain": [
              "<IPython.core.display.HTML object>"
            ],
            "text/html": [
              "\n",
              "     <input type=\"file\" id=\"files-acf71254-18fd-4b48-b9bc-f6425fa25214\" name=\"files[]\" multiple disabled\n",
              "        style=\"border:none\" />\n",
              "     <output id=\"result-acf71254-18fd-4b48-b9bc-f6425fa25214\">\n",
              "      Upload widget is only available when the cell has been executed in the\n",
              "      current browser session. Please rerun this cell to enable.\n",
              "      </output>\n",
              "      <script>// Copyright 2017 Google LLC\n",
              "//\n",
              "// Licensed under the Apache License, Version 2.0 (the \"License\");\n",
              "// you may not use this file except in compliance with the License.\n",
              "// You may obtain a copy of the License at\n",
              "//\n",
              "//      http://www.apache.org/licenses/LICENSE-2.0\n",
              "//\n",
              "// Unless required by applicable law or agreed to in writing, software\n",
              "// distributed under the License is distributed on an \"AS IS\" BASIS,\n",
              "// WITHOUT WARRANTIES OR CONDITIONS OF ANY KIND, either express or implied.\n",
              "// See the License for the specific language governing permissions and\n",
              "// limitations under the License.\n",
              "\n",
              "/**\n",
              " * @fileoverview Helpers for google.colab Python module.\n",
              " */\n",
              "(function(scope) {\n",
              "function span(text, styleAttributes = {}) {\n",
              "  const element = document.createElement('span');\n",
              "  element.textContent = text;\n",
              "  for (const key of Object.keys(styleAttributes)) {\n",
              "    element.style[key] = styleAttributes[key];\n",
              "  }\n",
              "  return element;\n",
              "}\n",
              "\n",
              "// Max number of bytes which will be uploaded at a time.\n",
              "const MAX_PAYLOAD_SIZE = 100 * 1024;\n",
              "\n",
              "function _uploadFiles(inputId, outputId) {\n",
              "  const steps = uploadFilesStep(inputId, outputId);\n",
              "  const outputElement = document.getElementById(outputId);\n",
              "  // Cache steps on the outputElement to make it available for the next call\n",
              "  // to uploadFilesContinue from Python.\n",
              "  outputElement.steps = steps;\n",
              "\n",
              "  return _uploadFilesContinue(outputId);\n",
              "}\n",
              "\n",
              "// This is roughly an async generator (not supported in the browser yet),\n",
              "// where there are multiple asynchronous steps and the Python side is going\n",
              "// to poll for completion of each step.\n",
              "// This uses a Promise to block the python side on completion of each step,\n",
              "// then passes the result of the previous step as the input to the next step.\n",
              "function _uploadFilesContinue(outputId) {\n",
              "  const outputElement = document.getElementById(outputId);\n",
              "  const steps = outputElement.steps;\n",
              "\n",
              "  const next = steps.next(outputElement.lastPromiseValue);\n",
              "  return Promise.resolve(next.value.promise).then((value) => {\n",
              "    // Cache the last promise value to make it available to the next\n",
              "    // step of the generator.\n",
              "    outputElement.lastPromiseValue = value;\n",
              "    return next.value.response;\n",
              "  });\n",
              "}\n",
              "\n",
              "/**\n",
              " * Generator function which is called between each async step of the upload\n",
              " * process.\n",
              " * @param {string} inputId Element ID of the input file picker element.\n",
              " * @param {string} outputId Element ID of the output display.\n",
              " * @return {!Iterable<!Object>} Iterable of next steps.\n",
              " */\n",
              "function* uploadFilesStep(inputId, outputId) {\n",
              "  const inputElement = document.getElementById(inputId);\n",
              "  inputElement.disabled = false;\n",
              "\n",
              "  const outputElement = document.getElementById(outputId);\n",
              "  outputElement.innerHTML = '';\n",
              "\n",
              "  const pickedPromise = new Promise((resolve) => {\n",
              "    inputElement.addEventListener('change', (e) => {\n",
              "      resolve(e.target.files);\n",
              "    });\n",
              "  });\n",
              "\n",
              "  const cancel = document.createElement('button');\n",
              "  inputElement.parentElement.appendChild(cancel);\n",
              "  cancel.textContent = 'Cancel upload';\n",
              "  const cancelPromise = new Promise((resolve) => {\n",
              "    cancel.onclick = () => {\n",
              "      resolve(null);\n",
              "    };\n",
              "  });\n",
              "\n",
              "  // Wait for the user to pick the files.\n",
              "  const files = yield {\n",
              "    promise: Promise.race([pickedPromise, cancelPromise]),\n",
              "    response: {\n",
              "      action: 'starting',\n",
              "    }\n",
              "  };\n",
              "\n",
              "  cancel.remove();\n",
              "\n",
              "  // Disable the input element since further picks are not allowed.\n",
              "  inputElement.disabled = true;\n",
              "\n",
              "  if (!files) {\n",
              "    return {\n",
              "      response: {\n",
              "        action: 'complete',\n",
              "      }\n",
              "    };\n",
              "  }\n",
              "\n",
              "  for (const file of files) {\n",
              "    const li = document.createElement('li');\n",
              "    li.append(span(file.name, {fontWeight: 'bold'}));\n",
              "    li.append(span(\n",
              "        `(${file.type || 'n/a'}) - ${file.size} bytes, ` +\n",
              "        `last modified: ${\n",
              "            file.lastModifiedDate ? file.lastModifiedDate.toLocaleDateString() :\n",
              "                                    'n/a'} - `));\n",
              "    const percent = span('0% done');\n",
              "    li.appendChild(percent);\n",
              "\n",
              "    outputElement.appendChild(li);\n",
              "\n",
              "    const fileDataPromise = new Promise((resolve) => {\n",
              "      const reader = new FileReader();\n",
              "      reader.onload = (e) => {\n",
              "        resolve(e.target.result);\n",
              "      };\n",
              "      reader.readAsArrayBuffer(file);\n",
              "    });\n",
              "    // Wait for the data to be ready.\n",
              "    let fileData = yield {\n",
              "      promise: fileDataPromise,\n",
              "      response: {\n",
              "        action: 'continue',\n",
              "      }\n",
              "    };\n",
              "\n",
              "    // Use a chunked sending to avoid message size limits. See b/62115660.\n",
              "    let position = 0;\n",
              "    do {\n",
              "      const length = Math.min(fileData.byteLength - position, MAX_PAYLOAD_SIZE);\n",
              "      const chunk = new Uint8Array(fileData, position, length);\n",
              "      position += length;\n",
              "\n",
              "      const base64 = btoa(String.fromCharCode.apply(null, chunk));\n",
              "      yield {\n",
              "        response: {\n",
              "          action: 'append',\n",
              "          file: file.name,\n",
              "          data: base64,\n",
              "        },\n",
              "      };\n",
              "\n",
              "      let percentDone = fileData.byteLength === 0 ?\n",
              "          100 :\n",
              "          Math.round((position / fileData.byteLength) * 100);\n",
              "      percent.textContent = `${percentDone}% done`;\n",
              "\n",
              "    } while (position < fileData.byteLength);\n",
              "  }\n",
              "\n",
              "  // All done.\n",
              "  yield {\n",
              "    response: {\n",
              "      action: 'complete',\n",
              "    }\n",
              "  };\n",
              "}\n",
              "\n",
              "scope.google = scope.google || {};\n",
              "scope.google.colab = scope.google.colab || {};\n",
              "scope.google.colab._files = {\n",
              "  _uploadFiles,\n",
              "  _uploadFilesContinue,\n",
              "};\n",
              "})(self);\n",
              "</script> "
            ]
          },
          "metadata": {}
        },
        {
          "output_type": "stream",
          "name": "stdout",
          "text": [
            "Saving stock_price_dataset.csv to stock_price_dataset (4).csv\n"
          ]
        },
        {
          "output_type": "stream",
          "name": "stderr",
          "text": [
            "100%|██████████| 42/42 [00:06<00:00,  6.06it/s]"
          ]
        },
        {
          "output_type": "stream",
          "name": "stdout",
          "text": [
            "[LightGBM] [Info] Auto-choosing col-wise multi-threading, the overhead of testing was 0.000204 seconds.\n",
            "You can set `force_col_wise=true` to remove the overhead.\n",
            "[LightGBM] [Info] Total Bins 2023\n",
            "[LightGBM] [Info] Number of data points in the train set: 1600, number of used features: 8\n",
            "[LightGBM] [Info] Start training from score 0.013139\n",
            "                               Adjusted R-Squared  R-Squared  RMSE  Time Taken\n",
            "Model                                                                         \n",
            "OrthogonalMatchingPursuitCV                  1.00       1.00  0.04        0.03\n",
            "OrthogonalMatchingPursuit                    1.00       1.00  0.04        0.01\n",
            "LassoLarsIC                                  1.00       1.00  0.04        0.03\n",
            "SGDRegressor                                 1.00       1.00  0.04        0.04\n",
            "ElasticNetCV                                 1.00       1.00  0.04        0.14\n",
            "TransformedTargetRegressor                   1.00       1.00  0.04        0.02\n",
            "LinearRegression                             1.00       1.00  0.04        0.06\n",
            "Lars                                         1.00       1.00  0.04        0.04\n",
            "RANSACRegressor                              1.00       1.00  0.04        0.02\n",
            "BayesianRidge                                1.00       1.00  0.04        0.02\n",
            "RidgeCV                                      1.00       1.00  0.04        0.09\n",
            "Ridge                                        1.00       1.00  0.04        0.02\n",
            "HuberRegressor                               1.00       1.00  0.04        0.03\n",
            "LarsCV                                       1.00       1.00  0.04        0.07\n",
            "LassoLarsCV                                  1.00       1.00  0.04        0.03\n",
            "LassoCV                                      1.00       1.00  0.04        0.13\n",
            "LinearSVR                                    1.00       1.00  0.04        0.10\n",
            "KernelRidge                                  1.00       1.00  0.05        0.23\n",
            "PassiveAggressiveRegressor                   1.00       1.00  0.05        0.02\n",
            "GradientBoostingRegressor                    1.00       1.00  0.05        0.65\n",
            "ExtraTreesRegressor                          1.00       1.00  0.05        0.66\n",
            "HistGradientBoostingRegressor                1.00       1.00  0.05        0.29\n",
            "RandomForestRegressor                        1.00       1.00  0.05        1.34\n",
            "LGBMRegressor                                1.00       1.00  0.05        0.14\n",
            "BaggingRegressor                             1.00       1.00  0.05        0.16\n",
            "AdaBoostRegressor                            1.00       1.00  0.06        0.35\n",
            "ExtraTreeRegressor                           1.00       1.00  0.06        0.03\n",
            "DecisionTreeRegressor                        1.00       1.00  0.06        0.04\n",
            "NuSVR                                        0.99       0.99  0.08        0.54\n",
            "MLPRegressor                                 0.99       0.99  0.09        0.33\n",
            "SVR                                          0.99       0.99  0.10        0.14\n",
            "GaussianProcessRegressor                     0.93       0.93  0.26        0.40\n",
            "KNeighborsRegressor                          0.90       0.91  0.30        0.03\n",
            "TweedieRegressor                             0.72       0.75  0.50        0.04\n",
            "ElasticNet                                   0.51       0.55  0.66        0.02\n",
            "LassoLars                                   -0.09      -0.00  0.99        0.02\n",
            "Lasso                                       -0.09      -0.00  0.99        0.02\n",
            "DummyRegressor                              -0.09      -0.00  0.99        0.02\n",
            "QuantileRegressor                           -0.10      -0.01  0.99        0.17\n"
          ]
        },
        {
          "output_type": "stream",
          "name": "stderr",
          "text": [
            "\n"
          ]
        },
        {
          "output_type": "display_data",
          "data": {
            "text/plain": [
              "<IPython.core.display.Javascript object>"
            ],
            "application/javascript": [
              "\n",
              "    async function download(id, filename, size) {\n",
              "      if (!google.colab.kernel.accessAllowed) {\n",
              "        return;\n",
              "      }\n",
              "      const div = document.createElement('div');\n",
              "      const label = document.createElement('label');\n",
              "      label.textContent = `Downloading \"${filename}\": `;\n",
              "      div.appendChild(label);\n",
              "      const progress = document.createElement('progress');\n",
              "      progress.max = size;\n",
              "      div.appendChild(progress);\n",
              "      document.body.appendChild(div);\n",
              "\n",
              "      const buffers = [];\n",
              "      let downloaded = 0;\n",
              "\n",
              "      const channel = await google.colab.kernel.comms.open(id);\n",
              "      // Send a message to notify the kernel that we're ready.\n",
              "      channel.send({})\n",
              "\n",
              "      for await (const message of channel.messages) {\n",
              "        // Send a message to notify the kernel that we're ready.\n",
              "        channel.send({})\n",
              "        if (message.buffers) {\n",
              "          for (const buffer of message.buffers) {\n",
              "            buffers.push(buffer);\n",
              "            downloaded += buffer.byteLength;\n",
              "            progress.value = downloaded;\n",
              "          }\n",
              "        }\n",
              "      }\n",
              "      const blob = new Blob(buffers, {type: 'application/binary'});\n",
              "      const a = document.createElement('a');\n",
              "      a.href = window.URL.createObjectURL(blob);\n",
              "      a.download = filename;\n",
              "      div.appendChild(a);\n",
              "      a.click();\n",
              "      div.remove();\n",
              "    }\n",
              "  "
            ]
          },
          "metadata": {}
        },
        {
          "output_type": "display_data",
          "data": {
            "text/plain": [
              "<IPython.core.display.Javascript object>"
            ],
            "application/javascript": [
              "download(\"download_3953f645-ccda-4bd2-82f3-02c405f139b2\", \"lazy_regressor_results.csv\", 3718)"
            ]
          },
          "metadata": {}
        },
        {
          "output_type": "stream",
          "name": "stdout",
          "text": [
            "Kết quả đã được lưu vào 'lazy_regressor_results.csv'\n"
          ]
        }
      ]
    },
    {
      "cell_type": "code",
      "source": [
        "from sklearn.model_selection import GridSearchCV\n",
        "from sklearn.linear_model import (LinearRegression, Ridge, Lasso, ElasticNet,\n",
        "                                  OrthogonalMatchingPursuit, OrthogonalMatchingPursuitCV, BayesianRidge)\n",
        "from sklearn.tree import DecisionTreeRegressor\n",
        "from sklearn.ensemble import (RandomForestRegressor, GradientBoostingRegressor, AdaBoostRegressor,\n",
        "                               ExtraTreesRegressor, BaggingRegressor)\n",
        "from sklearn.svm import SVR\n",
        "from sklearn.neighbors import KNeighborsRegressor\n",
        "from sklearn.gaussian_process import GaussianProcessRegressor\n",
        "from sklearn.neural_network import MLPRegressor\n",
        "from sklearn.cross_decomposition import PLSRegression\n",
        "from sklearn.dummy import DummyRegressor\n",
        "from sklearn.compose import TransformedTargetRegressor\n",
        "from sklearn.preprocessing import StandardScaler\n",
        "from sklearn.metrics import mean_squared_error, r2_score\n",
        "\n",
        "# Ánh xạ tên mô hình từ LazyRegressor sang sklearn\n",
        "model_mapping = {\n",
        "    \"RandomForestRegressor\": RandomForestRegressor(),\n",
        "    \"SVR\": SVR(),\n",
        "    \"DecisionTreeRegressor\": DecisionTreeRegressor(),\n",
        "    \"LinearRegression\": LinearRegression(),\n",
        "    \"Ridge\": Ridge(),\n",
        "    \"Lasso\": Lasso(),\n",
        "    \"ElasticNet\": ElasticNet(),\n",
        "    \"BayesianRidge\": BayesianRidge(),\n",
        "    \"OrthogonalMatchingPursuit\": OrthogonalMatchingPursuit(),\n",
        "    \"OrthogonalMatchingPursuitCV\": OrthogonalMatchingPursuit(),\n",
        "    \"KNeighborsRegressor\": KNeighborsRegressor(),\n",
        "    \"GradientBoostingRegressor\": GradientBoostingRegressor(),\n",
        "    \"AdaBoostRegressor\": AdaBoostRegressor(),\n",
        "    \"ExtraTreesRegressor\": ExtraTreesRegressor(),\n",
        "    \"BaggingRegressor\": BaggingRegressor(),\n",
        "    \"GaussianProcessRegressor\": GaussianProcessRegressor(),\n",
        "    \"MLPRegressor\": MLPRegressor(),\n",
        "    \"PLSRegression\": PLSRegression(),\n",
        "    \"DummyRegressor\": DummyRegressor(),\n",
        "    \"TransformedTargetRegressor\": TransformedTargetRegressor(regressor=LinearRegression(), transformer=StandardScaler())\n",
        "}\n",
        "\n",
        "# Lấy tên mô hình tốt nhất\n",
        "best_model_name = models.index[0]  # Sử dụng mô hình đầu tiên trong bảng kết quả\n",
        "\n",
        "# Định nghĩa GridSearchCV với các tham số tối ưu hóa tùy theo mô hình\n",
        "if best_model_name in model_mapping:\n",
        "    model = model_mapping[best_model_name]\n",
        "    print(f\"\\u0110ang sử dụng mô hình: {best_model_name}\")\n",
        "else:\n",
        "    raise ValueError(f\"Mô hình {best_model_name} không được hỗ trợ\")\n",
        "\n",
        "# Định nghĩa GridSearchCV với các tham số tối ưu hóa tùy theo mô hình\n",
        "if isinstance(model, RandomForestRegressor):\n",
        "    param_grid = {\n",
        "        'n_estimators': [50, 100, 200],\n",
        "        'max_depth': [None, 10, 20, 30],\n",
        "        'min_samples_split': [2, 5, 10],\n",
        "        'min_samples_leaf': [1, 2, 4]\n",
        "    }\n",
        "elif isinstance(model, SVR):\n",
        "    param_grid = {\n",
        "        'C': [0.1, 1, 10],\n",
        "        'epsilon': [0.01, 0.1, 1],\n",
        "        'kernel': ['linear', 'rbf']\n",
        "    }\n",
        "elif isinstance(model, DecisionTreeRegressor):\n",
        "    param_grid = {\n",
        "        'max_depth': [None, 10, 20, 30],\n",
        "        'min_samples_split': [2, 5, 10],\n",
        "        'min_samples_leaf': [1, 2, 4]\n",
        "    }\n",
        "elif isinstance(model, KNeighborsRegressor):\n",
        "    param_grid = {\n",
        "        'n_neighbors': [3, 5, 10],\n",
        "        'weights': ['uniform', 'distance'],\n",
        "        'p': [1, 2]\n",
        "    }\n",
        "elif isinstance(model, GradientBoostingRegressor):\n",
        "    param_grid = {\n",
        "        'n_estimators': [50, 100, 200],\n",
        "        'learning_rate': [0.01, 0.1, 0.2],\n",
        "        'max_depth': [3, 5, 10]\n",
        "    }\n",
        "elif isinstance(model, AdaBoostRegressor):\n",
        "    param_grid = {\n",
        "        'n_estimators': [50, 100, 200],\n",
        "        'learning_rate': [0.01, 0.1, 0.2]\n",
        "    }\n",
        "elif isinstance(model, (Ridge, Lasso, ElasticNet)):\n",
        "    param_grid = {\n",
        "        'alpha': [0.01, 0.1, 1, 10, 100]\n",
        "    }\n",
        "elif isinstance(model, OrthogonalMatchingPursuit):\n",
        "    param_grid = {\n",
        "        'n_nonzero_coefs': [None, 10, 20, 30]\n",
        "    }\n",
        "elif isinstance(model, MLPRegressor):\n",
        "    param_grid = {\n",
        "        'hidden_layer_sizes': [(50,), (100,), (50, 50)],\n",
        "        'activation': ['relu', 'tanh'],\n",
        "        'solver': ['adam', 'sgd'],\n",
        "        'learning_rate': ['constant', 'adaptive']\n",
        "    }\n",
        "elif isinstance(model, ExtraTreesRegressor):\n",
        "    param_grid = {\n",
        "        'n_estimators': [50, 100, 200],\n",
        "        'max_depth': [None, 10, 20, 30],\n",
        "        'min_samples_split': [2, 5, 10]\n",
        "    }\n",
        "elif isinstance(model, TransformedTargetRegressor):\n",
        "    param_grid = {\n",
        "        'regressor__alpha': [0.01, 0.1, 1, 10, 100]\n",
        "    }\n",
        "else:\n",
        "    param_grid = {}  # Nếu không có tham số tùy chỉnh\n",
        "\n",
        "# Huấn luyện mô hình với GridSearchCV\n",
        "try:\n",
        "    grid_search = GridSearchCV(estimator=model, param_grid=param_grid,\n",
        "                               scoring='neg_mean_squared_error', cv=3, verbose=2, n_jobs=-1)\n",
        "    grid_search.fit(X_train, y_train)\n",
        "\n",
        "    # Mô hình tối ưu\n",
        "    best_model = grid_search.best_estimator_\n",
        "    print(f\"Mô hình tối ưu hóa: {best_model}\")\n",
        "\n",
        "    # Dự đoán và đánh giá mô hình\n",
        "    y_pred = best_model.predict(X_test)\n",
        "    mse = mean_squared_error(y_test, y_pred)\n",
        "    r2 = r2_score(y_test, y_pred)\n",
        "\n",
        "    print(f\"Mean Squared Error (MSE): {mse}\")\n",
        "    print(f\"R-squared (R2): {r2}\")\n",
        "except Exception as e:\n",
        "    print(f\"Lỗi khi chạy GridSearchCV: {e}\")"
      ],
      "metadata": {
        "colab": {
          "base_uri": "https://localhost:8080/"
        },
        "id": "DWUIjOhwMsKI",
        "outputId": "fcd50350-0ad4-485a-d008-4784bf10aed8"
      },
      "execution_count": null,
      "outputs": [
        {
          "output_type": "stream",
          "name": "stdout",
          "text": [
            "Đang sử dụng mô hình: OrthogonalMatchingPursuitCV\n",
            "Fitting 3 folds for each of 4 candidates, totalling 12 fits\n",
            "Mô hình tối ưu hóa: OrthogonalMatchingPursuit()\n",
            "Mean Squared Error (MSE): 0.0019618440256418215\n",
            "R-squared (R2): 0.998001179537008\n"
          ]
        }
      ]
    },
    {
      "cell_type": "markdown",
      "source": [
        "# **Vẽ đồ thị**"
      ],
      "metadata": {
        "id": "02JZ2nlIp3GY"
      }
    },
    {
      "cell_type": "code",
      "source": [
        "from lazypredict.Supervised import LazyRegressor\n",
        "from sklearn.model_selection import GridSearchCV, train_test_split, learning_curve\n",
        "from sklearn.metrics import mean_squared_error, r2_score\n",
        "from sklearn.linear_model import *\n",
        "from sklearn.tree import DecisionTreeRegressor\n",
        "from sklearn.ensemble import *\n",
        "from sklearn.svm import SVR\n",
        "from sklearn.neighbors import KNeighborsRegressor\n",
        "from sklearn.gaussian_process import GaussianProcessRegressor\n",
        "from sklearn.isotonic import IsotonicRegression\n",
        "from sklearn.neural_network import MLPRegressor\n",
        "from sklearn.dummy import DummyRegressor\n",
        "from sklearn.cross_decomposition import PLSRegression\n",
        "from sklearn.compose import TransformedTargetRegressor\n",
        "import matplotlib.pyplot as plt\n",
        "import numpy as np\n",
        "\n",
        "# Hàm vẽ Learning Curve\n",
        "def plot_learning_curve(model, X, y, title, cv=5, scoring='neg_mean_squared_error'):\n",
        "    train_sizes, train_scores, test_scores = learning_curve(\n",
        "        model, X, y, cv=cv, scoring=scoring, n_jobs=-1, train_sizes=np.linspace(0.1, 1.0, 5), verbose=0\n",
        "    )\n",
        "\n",
        "    train_scores_mean = -train_scores.mean(axis=1)  # Chuyển sang giá trị dương\n",
        "    test_scores_mean = -test_scores.mean(axis=1)\n",
        "\n",
        "    plt.figure(figsize=(6, 4))\n",
        "    plt.plot(train_sizes, train_scores_mean, 'o-', color=\"r\", label=\"Training score\")\n",
        "    plt.plot(train_sizes, test_scores_mean, 'o-', color=\"g\", label=\"Cross-validation score\")\n",
        "    plt.title(title)\n",
        "    plt.xlabel(\"Training Size\")\n",
        "    plt.ylabel(\"Score (MSE)\")\n",
        "    plt.legend(loc=\"best\")\n",
        "    plt.grid()\n",
        "    plt.show()\n",
        "\n",
        "# Lấy mô hình tốt nhất từ LazyRegressor\n",
        "best_model_name = models.index[0]  # Tên mô hình tốt nhất từ LazyRegressor\n",
        "print(f\"Mô hình tốt nhất: {best_model_name}\")\n",
        "\n",
        "# Tạo mô hình tương ứng với tên\n",
        "if best_model_name == \"RandomForestRegressor\":\n",
        "    model = RandomForestRegressor()\n",
        "elif best_model_name == \"SVR\":\n",
        "    model = SVR()\n",
        "elif best_model_name == \"DecisionTreeRegressor\":\n",
        "    model = DecisionTreeRegressor()\n",
        "elif best_model_name == \"LinearRegression\":\n",
        "    model = LinearRegression()\n",
        "elif best_model_name == \"Ridge\":\n",
        "    model = Ridge()\n",
        "elif best_model_name == \"Lasso\":\n",
        "    model = Lasso()\n",
        "elif best_model_name == \"ElasticNet\":\n",
        "    model = ElasticNet()\n",
        "elif best_model_name == \"BayesianRidge\":\n",
        "    model = BayesianRidge()\n",
        "elif best_model_name == \"OrthogonalMatchingPursuit\":\n",
        "    model = OrthogonalMatchingPursuit()\n",
        "elif best_model_name == \"OrthogonalMatchingPursuitCV\":\n",
        "    model = OrthogonalMatchingPursuitCV()\n",
        "elif best_model_name == \"KNeighborsRegressor\":\n",
        "    model = KNeighborsRegressor()\n",
        "elif best_model_name == \"GradientBoostingRegressor\":\n",
        "    model = GradientBoostingRegressor()\n",
        "elif best_model_name == \"AdaBoostRegressor\":\n",
        "    model = AdaBoostRegressor()\n",
        "elif best_model_name == \"ExtraTreesRegressor\":\n",
        "    model = ExtraTreesRegressor()\n",
        "elif best_model_name == \"BaggingRegressor\":\n",
        "    model = BaggingRegressor()\n",
        "elif best_model_name == \"GaussianProcessRegressor\":\n",
        "    model = GaussianProcessRegressor()\n",
        "elif best_model_name == \"MLPRegressor\":\n",
        "    model = MLPRegressor()\n",
        "elif best_model_name == \"PLSRegression\":\n",
        "    model = PLSRegression()\n",
        "elif best_model_name == \"DummyRegressor\":\n",
        "    model = DummyRegressor()\n",
        "elif best_model_name == \"TransformedTargetRegressor\":\n",
        "    model = TransformedTargetRegressor()\n",
        "else:\n",
        "    raise ValueError(f\"Mô hình {best_model_name} không hỗ trợ.\")\n",
        "\n",
        "# Vẽ Learning Curve cho mô hình tốt nhất\n",
        "plot_learning_curve(\n",
        "    model,\n",
        "    X_train,\n",
        "    y_train,\n",
        "    title=f\"Learning Curve - {best_model_name}\",\n",
        "    cv=5\n",
        ")"
      ],
      "metadata": {
        "colab": {
          "base_uri": "https://localhost:8080/",
          "height": 427
        },
        "id": "MoiaV6I0L-F6",
        "outputId": "a46f5539-7afa-4341-fb0e-ff72a99547f5"
      },
      "execution_count": null,
      "outputs": [
        {
          "output_type": "stream",
          "name": "stdout",
          "text": [
            "Mô hình tốt nhất: OrthogonalMatchingPursuitCV\n"
          ]
        },
        {
          "output_type": "display_data",
          "data": {
            "text/plain": [
              "<Figure size 600x400 with 1 Axes>"
            ],
            "image/png": "[encoded data removed]"
          },
          "metadata": {}
        }
      ]
    },
    {
      "cell_type": "markdown",
      "source": [
        "# **FFNN**"
      ],
      "metadata": {
        "id": "jKBjobc-rUc6"
      }
    },
    {
      "cell_type": "code",
      "source": [
        "from sklearn.metrics import mean_squared_error, mean_absolute_error, r2_score, explained_variance_score\n",
        "from keras.models import Sequential\n",
        "from keras.layers import Dense\n",
        "from keras.callbacks import EarlyStopping\n",
        "import numpy as np\n",
        "\n",
        "# Khởi tạo mô hình FFNN\n",
        "def build_ffnn(input_dim):\n",
        "    model = Sequential()\n",
        "    model.add(Dense(128, activation='relu', input_dim=input_dim))\n",
        "    model.add(Dense(64, activation='relu'))\n",
        "    model.add(Dense(32, activation='relu'))\n",
        "    model.add(Dense(1))  # Layer cuối cùng với 1 unit, không activation\n",
        "    model.compile(optimizer='adam', loss='mse', metrics=['mse'])\n",
        "    return model\n",
        "\n",
        "# Early stopping\n",
        "early_stopping = EarlyStopping(monitor='val_loss', patience=10, restore_best_weights=True)\n",
        "\n",
        "# Huấn luyện mô hình\n",
        "input_dim = X_train.shape[1]\n",
        "ffnn_model = build_ffnn(input_dim)\n",
        "ffnn_model.fit(X_train, y_train, validation_split=0.2, epochs=100, batch_size=32, callbacks=[early_stopping], verbose=1)\n",
        "\n",
        "# Dự đoán và đánh giá\n",
        "y_pred = ffnn_model.predict(X_test)\n",
        "mse_ffnn = mean_squared_error(y_test, y_pred)\n",
        "rmse_ffnn = np.sqrt(mse_ffnn)\n",
        "mae_ffnn = mean_absolute_error(y_test, y_pred)\n",
        "r2_ffnn = r2_score(y_test, y_pred)\n",
        "explained_var_ffnn = explained_variance_score(y_test, y_pred)\n",
        "\n",
        "# In kết quả\n",
        "print(f\"FFNN Metrics:\\nMSE: {mse_ffnn}\\nRMSE: {rmse_ffnn}\\nMAE: {mae_ffnn}\\nR²: {r2}\\nExplained Variance: {explained_var_ffnn}\")"
      ],
      "metadata": {
        "colab": {
          "base_uri": "https://localhost:8080/"
        },
        "id": "s25a4DT9rWFb",
        "outputId": "3a01e725-9fd1-43e3-c489-7216666923f1"
      },
      "execution_count": null,
      "outputs": [
        {
          "output_type": "stream",
          "name": "stdout",
          "text": [
            "Epoch 1/100\n",
            "\u001b[1m40/40\u001b[0m \u001b[32m━━━━━━━━━━━━━━━━━━━━\u001b[0m\u001b[37m\u001b[0m \u001b[1m1s\u001b[0m 7ms/step - loss: 4.5446 - mse: 4.5446 - val_loss: 0.8689 - val_mse: 0.8689\n",
            "Epoch 2/100\n",
            "\u001b[1m40/40\u001b[0m \u001b[32m━━━━━━━━━━━━━━━━━━━━\u001b[0m\u001b[37m\u001b[0m \u001b[1m0s\u001b[0m 3ms/step - loss: 0.6759 - mse: 0.6759 - val_loss: 0.4750 - val_mse: 0.4750\n",
            "Epoch 3/100\n",
            "\u001b[1m40/40\u001b[0m \u001b[32m━━━━━━━━━━━━━━━━━━━━\u001b[0m\u001b[37m\u001b[0m \u001b[1m0s\u001b[0m 3ms/step - loss: 0.3667 - mse: 0.3667 - val_loss: 0.1652 - val_mse: 0.1652\n",
            "Epoch 4/100\n",
            "\u001b[1m40/40\u001b[0m \u001b[32m━━━━━━━━━━━━━━━━━━━━\u001b[0m\u001b[37m\u001b[0m \u001b[1m0s\u001b[0m 3ms/step - loss: 0.1375 - mse: 0.1375 - val_loss: 0.0723 - val_mse: 0.0723\n",
            "Epoch 5/100\n",
            "\u001b[1m40/40\u001b[0m \u001b[32m━━━━━━━━━━━━━━━━━━━━\u001b[0m\u001b[37m\u001b[0m \u001b[1m0s\u001b[0m 3ms/step - loss: 0.0383 - mse: 0.0383 - val_loss: 0.0189 - val_mse: 0.0189\n",
            "Epoch 6/100\n",
            "\u001b[1m40/40\u001b[0m \u001b[32m━━━━━━━━━━━━━━━━━━━━\u001b[0m\u001b[37m\u001b[0m \u001b[1m0s\u001b[0m 4ms/step - loss: 0.0125 - mse: 0.0125 - val_loss: 0.0060 - val_mse: 0.0060\n",
            "Epoch 7/100\n",
            "\u001b[1m40/40\u001b[0m \u001b[32m━━━━━━━━━━━━━━━━━━━━\u001b[0m\u001b[37m\u001b[0m \u001b[1m0s\u001b[0m 4ms/step - loss: 0.0066 - mse: 0.0066 - val_loss: 0.0133 - val_mse: 0.0133\n",
            "Epoch 8/100\n",
            "\u001b[1m40/40\u001b[0m \u001b[32m━━━━━━━━━━━━━━━━━━━━\u001b[0m\u001b[37m\u001b[0m \u001b[1m0s\u001b[0m 4ms/step - loss: 0.0075 - mse: 0.0075 - val_loss: 0.0254 - val_mse: 0.0254\n",
            "Epoch 9/100\n",
            "\u001b[1m40/40\u001b[0m \u001b[32m━━━━━━━━━━━━━━━━━━━━\u001b[0m\u001b[37m\u001b[0m \u001b[1m0s\u001b[0m 5ms/step - loss: 0.0138 - mse: 0.0138 - val_loss: 0.0056 - val_mse: 0.0056\n",
            "Epoch 10/100\n",
            "\u001b[1m40/40\u001b[0m \u001b[32m━━━━━━━━━━━━━━━━━━━━\u001b[0m\u001b[37m\u001b[0m \u001b[1m0s\u001b[0m 4ms/step - loss: 0.0037 - mse: 0.0037 - val_loss: 0.0065 - val_mse: 0.0065\n",
            "Epoch 11/100\n",
            "\u001b[1m40/40\u001b[0m \u001b[32m━━━━━━━━━━━━━━━━━━━━\u001b[0m\u001b[37m\u001b[0m \u001b[1m0s\u001b[0m 4ms/step - loss: 0.0061 - mse: 0.0061 - val_loss: 0.0321 - val_mse: 0.0321\n",
            "Epoch 12/100\n",
            "\u001b[1m40/40\u001b[0m \u001b[32m━━━━━━━━━━━━━━━━━━━━\u001b[0m\u001b[37m\u001b[0m \u001b[1m0s\u001b[0m 4ms/step - loss: 0.0108 - mse: 0.0108 - val_loss: 0.0044 - val_mse: 0.0044\n",
            "Epoch 13/100\n",
            "\u001b[1m40/40\u001b[0m \u001b[32m━━━━━━━━━━━━━━━━━━━━\u001b[0m\u001b[37m\u001b[0m \u001b[1m0s\u001b[0m 4ms/step - loss: 0.0048 - mse: 0.0048 - val_loss: 0.0046 - val_mse: 0.0046\n",
            "Epoch 14/100\n",
            "\u001b[1m40/40\u001b[0m \u001b[32m━━━━━━━━━━━━━━━━━━━━\u001b[0m\u001b[37m\u001b[0m \u001b[1m0s\u001b[0m 6ms/step - loss: 0.0041 - mse: 0.0041 - val_loss: 0.0128 - val_mse: 0.0128\n",
            "Epoch 15/100\n",
            "\u001b[1m40/40\u001b[0m \u001b[32m━━━━━━━━━━━━━━━━━━━━\u001b[0m\u001b[37m\u001b[0m \u001b[1m0s\u001b[0m 4ms/step - loss: 0.0102 - mse: 0.0102 - val_loss: 0.0755 - val_mse: 0.0755\n",
            "Epoch 16/100\n",
            "\u001b[1m40/40\u001b[0m \u001b[32m━━━━━━━━━━━━━━━━━━━━\u001b[0m\u001b[37m\u001b[0m \u001b[1m0s\u001b[0m 5ms/step - loss: 0.3344 - mse: 0.3344 - val_loss: 0.3232 - val_mse: 0.3232\n",
            "Epoch 17/100\n",
            "\u001b[1m40/40\u001b[0m \u001b[32m━━━━━━━━━━━━━━━━━━━━\u001b[0m\u001b[37m\u001b[0m \u001b[1m0s\u001b[0m 4ms/step - loss: 0.0694 - mse: 0.0694 - val_loss: 0.0056 - val_mse: 0.0056\n",
            "Epoch 18/100\n",
            "\u001b[1m40/40\u001b[0m \u001b[32m━━━━━━━━━━━━━━━━━━━━\u001b[0m\u001b[37m\u001b[0m \u001b[1m0s\u001b[0m 7ms/step - loss: 0.0067 - mse: 0.0067 - val_loss: 0.0049 - val_mse: 0.0049\n",
            "Epoch 19/100\n",
            "\u001b[1m40/40\u001b[0m \u001b[32m━━━━━━━━━━━━━━━━━━━━\u001b[0m\u001b[37m\u001b[0m \u001b[1m0s\u001b[0m 5ms/step - loss: 0.0104 - mse: 0.0104 - val_loss: 0.0122 - val_mse: 0.0122\n",
            "Epoch 20/100\n",
            "\u001b[1m40/40\u001b[0m \u001b[32m━━━━━━━━━━━━━━━━━━━━\u001b[0m\u001b[37m\u001b[0m \u001b[1m0s\u001b[0m 3ms/step - loss: 0.0047 - mse: 0.0047 - val_loss: 0.0048 - val_mse: 0.0048\n",
            "Epoch 21/100\n",
            "\u001b[1m40/40\u001b[0m \u001b[32m━━━━━━━━━━━━━━━━━━━━\u001b[0m\u001b[37m\u001b[0m \u001b[1m0s\u001b[0m 3ms/step - loss: 0.0043 - mse: 0.0043 - val_loss: 0.0044 - val_mse: 0.0044\n",
            "Epoch 22/100\n",
            "\u001b[1m40/40\u001b[0m \u001b[32m━━━━━━━━━━━━━━━━━━━━\u001b[0m\u001b[37m\u001b[0m \u001b[1m0s\u001b[0m 3ms/step - loss: 0.0029 - mse: 0.0029 - val_loss: 0.0042 - val_mse: 0.0042\n",
            "Epoch 23/100\n",
            "\u001b[1m40/40\u001b[0m \u001b[32m━━━━━━━━━━━━━━━━━━━━\u001b[0m\u001b[37m\u001b[0m \u001b[1m0s\u001b[0m 3ms/step - loss: 0.0037 - mse: 0.0037 - val_loss: 0.0053 - val_mse: 0.0053\n",
            "Epoch 24/100\n",
            "\u001b[1m40/40\u001b[0m \u001b[32m━━━━━━━━━━━━━━━━━━━━\u001b[0m\u001b[37m\u001b[0m \u001b[1m0s\u001b[0m 3ms/step - loss: 0.0045 - mse: 0.0045 - val_loss: 0.0047 - val_mse: 0.0047\n",
            "Epoch 25/100\n",
            "\u001b[1m40/40\u001b[0m \u001b[32m━━━━━━━━━━━━━━━━━━━━\u001b[0m\u001b[37m\u001b[0m \u001b[1m0s\u001b[0m 3ms/step - loss: 0.0070 - mse: 0.0070 - val_loss: 0.0054 - val_mse: 0.0054\n",
            "Epoch 26/100\n",
            "\u001b[1m40/40\u001b[0m \u001b[32m━━━━━━━━━━━━━━━━━━━━\u001b[0m\u001b[37m\u001b[0m \u001b[1m0s\u001b[0m 3ms/step - loss: 0.0079 - mse: 0.0079 - val_loss: 0.0233 - val_mse: 0.0233\n",
            "Epoch 27/100\n",
            "\u001b[1m40/40\u001b[0m \u001b[32m━━━━━━━━━━━━━━━━━━━━\u001b[0m\u001b[37m\u001b[0m \u001b[1m0s\u001b[0m 3ms/step - loss: 0.1404 - mse: 0.1404 - val_loss: 0.4060 - val_mse: 0.4060\n",
            "Epoch 28/100\n",
            "\u001b[1m40/40\u001b[0m \u001b[32m━━━━━━━━━━━━━━━━━━━━\u001b[0m\u001b[37m\u001b[0m \u001b[1m0s\u001b[0m 3ms/step - loss: 0.1765 - mse: 0.1765 - val_loss: 0.1804 - val_mse: 0.1804\n",
            "Epoch 29/100\n",
            "\u001b[1m40/40\u001b[0m \u001b[32m━━━━━━━━━━━━━━━━━━━━\u001b[0m\u001b[37m\u001b[0m \u001b[1m0s\u001b[0m 3ms/step - loss: 0.0418 - mse: 0.0418 - val_loss: 0.0155 - val_mse: 0.0155\n",
            "Epoch 30/100\n",
            "\u001b[1m40/40\u001b[0m \u001b[32m━━━━━━━━━━━━━━━━━━━━\u001b[0m\u001b[37m\u001b[0m \u001b[1m0s\u001b[0m 3ms/step - loss: 0.0270 - mse: 0.0270 - val_loss: 0.0055 - val_mse: 0.0055\n",
            "Epoch 31/100\n",
            "\u001b[1m40/40\u001b[0m \u001b[32m━━━━━━━━━━━━━━━━━━━━\u001b[0m\u001b[37m\u001b[0m \u001b[1m0s\u001b[0m 3ms/step - loss: 0.0083 - mse: 0.0083 - val_loss: 0.0920 - val_mse: 0.0920\n",
            "Epoch 32/100\n",
            "\u001b[1m40/40\u001b[0m \u001b[32m━━━━━━━━━━━━━━━━━━━━\u001b[0m\u001b[37m\u001b[0m \u001b[1m0s\u001b[0m 3ms/step - loss: 0.0772 - mse: 0.0772 - val_loss: 0.0134 - val_mse: 0.0134\n",
            "\u001b[1m13/13\u001b[0m \u001b[32m━━━━━━━━━━━━━━━━━━━━\u001b[0m\u001b[37m\u001b[0m \u001b[1m0s\u001b[0m 5ms/step\n",
            "FFNN Metrics:\n",
            "MSE: 0.00359460003600107\n",
            "RMSE: 0.05995498341256605\n",
            "MAE: 0.047288457575108\n",
            "R²: 0.998001179537008\n",
            "Explained Variance: 0.9967190446632551\n"
          ]
        }
      ]
    },
    {
      "cell_type": "markdown",
      "source": [
        "# **RNN**"
      ],
      "metadata": {
        "id": "SVCa0hqIwPfs"
      }
    },
    {
      "cell_type": "code",
      "source": [
        "from keras.layers import LSTM, Dropout, Dense\n",
        "from sklearn.preprocessing import MinMaxScaler\n",
        "from keras.models import Sequential\n",
        "\n",
        "# Chuẩn hóa dữ liệu đầu vào cho RNN\n",
        "scaler = MinMaxScaler()\n",
        "X_train_scaled = scaler.fit_transform(X_train)\n",
        "X_test_scaled = scaler.transform(X_test)\n",
        "\n",
        "# Reshape dữ liệu cho LSTM (dạng [samples, time steps, features])\n",
        "X_train_rnn = X_train_scaled.reshape((X_train_scaled.shape[0], 1, X_train_scaled.shape[1]))\n",
        "X_test_rnn = X_test_scaled.reshape((X_test_scaled.shape[0], 1, X_test_scaled.shape[1]))\n",
        "\n",
        "# Xây dựng mô hình RNN\n",
        "def build_rnn(input_shape):\n",
        "    model = Sequential()\n",
        "    model.add(LSTM(128, activation='relu', return_sequences=True, input_shape=input_shape))\n",
        "    model.add(LSTM(64, activation='relu'))\n",
        "    model.add(Dropout(0.3))\n",
        "    model.add(Dense(32, activation='relu'))\n",
        "    model.add(Dropout(0.2))\n",
        "    model.add(Dense(1))  # Layer cuối với 1 unit\n",
        "    model.compile(optimizer='adam', loss='mse', metrics=['mse'])\n",
        "    return model\n",
        "\n",
        "# Early stopping\n",
        "early_stopping = EarlyStopping(monitor='val_loss', patience=10, restore_best_weights=True)\n",
        "\n",
        "# Huấn luyện mô hình\n",
        "input_shape = (X_train_rnn.shape[1], X_train_rnn.shape[2])\n",
        "rnn_model = build_rnn(input_shape)\n",
        "rnn_model.fit(X_train_rnn, y_train, validation_split=0.2, epochs=100, batch_size=32, callbacks=[early_stopping], verbose=1)\n",
        "\n",
        "# Dự đoán và đánh giá\n",
        "y_pred_rnn = rnn_model.predict(X_test_rnn)\n",
        "mse_rnn = mean_squared_error(y_test, y_pred_rnn)\n",
        "rmse_rnn = np.sqrt(mse_rnn)\n",
        "mae_rnn = mean_absolute_error(y_test, y_pred_rnn)\n",
        "r2_rnn = r2_score(y_test, y_pred_rnn)\n",
        "explained_var_rnn = explained_variance_score(y_test, y_pred_rnn)\n",
        "\n",
        "# In kết quả\n",
        "print(f\"RNN Metrics:\\nMSE: {mse_rnn}\\nRMSE: {rmse_rnn}\\nMAE: {mae_rnn}\\nR²: {r2_rnn}\\nExplained Variance: {explained_var_rnn}\")"
      ],
      "metadata": {
        "colab": {
          "base_uri": "https://localhost:8080/"
        },
        "id": "ohGXJC_ewRDI",
        "outputId": "5821575e-cbee-4977-ef0e-9117a2019c7c"
      },
      "execution_count": null,
      "outputs": [
        {
          "output_type": "stream",
          "name": "stdout",
          "text": [
            "Epoch 1/100\n",
            "\u001b[1m40/40\u001b[0m \u001b[32m━━━━━━━━━━━━━━━━━━━━\u001b[0m\u001b[37m\u001b[0m \u001b[1m4s\u001b[0m 16ms/step - loss: 1.0004 - mse: 1.0004 - val_loss: 0.9171 - val_mse: 0.9171\n",
            "Epoch 2/100\n",
            "\u001b[1m40/40\u001b[0m \u001b[32m━━━━━━━━━━━━━━━━━━━━\u001b[0m\u001b[37m\u001b[0m \u001b[1m1s\u001b[0m 12ms/step - loss: 0.8636 - mse: 0.8636 - val_loss: 0.2388 - val_mse: 0.2388\n",
            "Epoch 3/100\n",
            "\u001b[1m40/40\u001b[0m \u001b[32m━━━━━━━━━━━━━━━━━━━━\u001b[0m\u001b[37m\u001b[0m \u001b[1m1s\u001b[0m 11ms/step - loss: 0.1853 - mse: 0.1853 - val_loss: 0.0521 - val_mse: 0.0521\n",
            "Epoch 4/100\n",
            "\u001b[1m40/40\u001b[0m \u001b[32m━━━━━━━━━━━━━━━━━━━━\u001b[0m\u001b[37m\u001b[0m \u001b[1m1s\u001b[0m 11ms/step - loss: 0.0916 - mse: 0.0916 - val_loss: 0.0420 - val_mse: 0.0420\n",
            "Epoch 5/100\n",
            "\u001b[1m40/40\u001b[0m \u001b[32m━━━━━━━━━━━━━━━━━━━━\u001b[0m\u001b[37m\u001b[0m \u001b[1m0s\u001b[0m 11ms/step - loss: 0.0811 - mse: 0.0811 - val_loss: 0.0371 - val_mse: 0.0371\n",
            "Epoch 6/100\n",
            "\u001b[1m40/40\u001b[0m \u001b[32m━━━━━━━━━━━━━━━━━━━━\u001b[0m\u001b[37m\u001b[0m \u001b[1m0s\u001b[0m 11ms/step - loss: 0.0794 - mse: 0.0794 - val_loss: 0.0303 - val_mse: 0.0303\n",
            "Epoch 7/100\n",
            "\u001b[1m40/40\u001b[0m \u001b[32m━━━━━━━━━━━━━━━━━━━━\u001b[0m\u001b[37m\u001b[0m \u001b[1m1s\u001b[0m 12ms/step - loss: 0.0657 - mse: 0.0657 - val_loss: 0.0215 - val_mse: 0.0215\n",
            "Epoch 8/100\n",
            "\u001b[1m40/40\u001b[0m \u001b[32m━━━━━━━━━━━━━━━━━━━━\u001b[0m\u001b[37m\u001b[0m \u001b[1m0s\u001b[0m 11ms/step - loss: 0.0558 - mse: 0.0558 - val_loss: 0.0158 - val_mse: 0.0158\n",
            "Epoch 9/100\n",
            "\u001b[1m40/40\u001b[0m \u001b[32m━━━━━━━━━━━━━━━━━━━━\u001b[0m\u001b[37m\u001b[0m \u001b[1m1s\u001b[0m 10ms/step - loss: 0.0462 - mse: 0.0462 - val_loss: 0.0143 - val_mse: 0.0143\n",
            "Epoch 10/100\n",
            "\u001b[1m40/40\u001b[0m \u001b[32m━━━━━━━━━━━━━━━━━━━━\u001b[0m\u001b[37m\u001b[0m \u001b[1m0s\u001b[0m 6ms/step - loss: 0.0497 - mse: 0.0497 - val_loss: 0.0127 - val_mse: 0.0127\n",
            "Epoch 11/100\n",
            "\u001b[1m40/40\u001b[0m \u001b[32m━━━━━━━━━━━━━━━━━━━━\u001b[0m\u001b[37m\u001b[0m \u001b[1m0s\u001b[0m 7ms/step - loss: 0.0440 - mse: 0.0440 - val_loss: 0.0142 - val_mse: 0.0142\n",
            "Epoch 12/100\n",
            "\u001b[1m40/40\u001b[0m \u001b[32m━━━━━━━━━━━━━━━━━━━━\u001b[0m\u001b[37m\u001b[0m \u001b[1m1s\u001b[0m 6ms/step - loss: 0.0452 - mse: 0.0452 - val_loss: 0.0166 - val_mse: 0.0166\n",
            "Epoch 13/100\n",
            "\u001b[1m40/40\u001b[0m \u001b[32m━━━━━━━━━━━━━━━━━━━━\u001b[0m\u001b[37m\u001b[0m \u001b[1m0s\u001b[0m 8ms/step - loss: 0.0464 - mse: 0.0464 - val_loss: 0.0083 - val_mse: 0.0083\n",
            "Epoch 14/100\n",
            "\u001b[1m40/40\u001b[0m \u001b[32m━━━━━━━━━━━━━━━━━━━━\u001b[0m\u001b[37m\u001b[0m \u001b[1m1s\u001b[0m 6ms/step - loss: 0.0425 - mse: 0.0425 - val_loss: 0.0127 - val_mse: 0.0127\n",
            "Epoch 15/100\n",
            "\u001b[1m40/40\u001b[0m \u001b[32m━━━━━━━━━━━━━━━━━━━━\u001b[0m\u001b[37m\u001b[0m \u001b[1m0s\u001b[0m 7ms/step - loss: 0.0446 - mse: 0.0446 - val_loss: 0.0140 - val_mse: 0.0140\n",
            "Epoch 16/100\n",
            "\u001b[1m40/40\u001b[0m \u001b[32m━━━━━━━━━━━━━━━━━━━━\u001b[0m\u001b[37m\u001b[0m \u001b[1m1s\u001b[0m 6ms/step - loss: 0.0421 - mse: 0.0421 - val_loss: 0.0104 - val_mse: 0.0104\n",
            "Epoch 17/100\n",
            "\u001b[1m40/40\u001b[0m \u001b[32m━━━━━━━━━━━━━━━━━━━━\u001b[0m\u001b[37m\u001b[0m \u001b[1m0s\u001b[0m 8ms/step - loss: 0.0355 - mse: 0.0355 - val_loss: 0.0065 - val_mse: 0.0065\n",
            "Epoch 18/100\n",
            "\u001b[1m40/40\u001b[0m \u001b[32m━━━━━━━━━━━━━━━━━━━━\u001b[0m\u001b[37m\u001b[0m \u001b[1m1s\u001b[0m 6ms/step - loss: 0.0384 - mse: 0.0384 - val_loss: 0.0096 - val_mse: 0.0096\n",
            "Epoch 19/100\n",
            "\u001b[1m40/40\u001b[0m \u001b[32m━━━━━━━━━━━━━━━━━━━━\u001b[0m\u001b[37m\u001b[0m \u001b[1m0s\u001b[0m 8ms/step - loss: 0.0354 - mse: 0.0354 - val_loss: 0.0084 - val_mse: 0.0084\n",
            "Epoch 20/100\n",
            "\u001b[1m40/40\u001b[0m \u001b[32m━━━━━━━━━━━━━━━━━━━━\u001b[0m\u001b[37m\u001b[0m \u001b[1m0s\u001b[0m 7ms/step - loss: 0.0382 - mse: 0.0382 - val_loss: 0.0128 - val_mse: 0.0128\n",
            "Epoch 21/100\n",
            "\u001b[1m40/40\u001b[0m \u001b[32m━━━━━━━━━━━━━━━━━━━━\u001b[0m\u001b[37m\u001b[0m \u001b[1m0s\u001b[0m 6ms/step - loss: 0.0429 - mse: 0.0429 - val_loss: 0.0165 - val_mse: 0.0165\n",
            "Epoch 22/100\n",
            "\u001b[1m40/40\u001b[0m \u001b[32m━━━━━━━━━━━━━━━━━━━━\u001b[0m\u001b[37m\u001b[0m \u001b[1m0s\u001b[0m 8ms/step - loss: 0.0393 - mse: 0.0393 - val_loss: 0.0068 - val_mse: 0.0068\n",
            "Epoch 23/100\n",
            "\u001b[1m40/40\u001b[0m \u001b[32m━━━━━━━━━━━━━━━━━━━━\u001b[0m\u001b[37m\u001b[0m \u001b[1m0s\u001b[0m 7ms/step - loss: 0.0350 - mse: 0.0350 - val_loss: 0.0090 - val_mse: 0.0090\n",
            "Epoch 24/100\n",
            "\u001b[1m40/40\u001b[0m \u001b[32m━━━━━━━━━━━━━━━━━━━━\u001b[0m\u001b[37m\u001b[0m \u001b[1m0s\u001b[0m 6ms/step - loss: 0.0363 - mse: 0.0363 - val_loss: 0.0075 - val_mse: 0.0075\n",
            "Epoch 25/100\n",
            "\u001b[1m40/40\u001b[0m \u001b[32m━━━━━━━━━━━━━━━━━━━━\u001b[0m\u001b[37m\u001b[0m \u001b[1m0s\u001b[0m 7ms/step - loss: 0.0351 - mse: 0.0351 - val_loss: 0.0092 - val_mse: 0.0092\n",
            "Epoch 26/100\n",
            "\u001b[1m40/40\u001b[0m \u001b[32m━━━━━━━━━━━━━━━━━━━━\u001b[0m\u001b[37m\u001b[0m \u001b[1m0s\u001b[0m 6ms/step - loss: 0.0343 - mse: 0.0343 - val_loss: 0.0147 - val_mse: 0.0147\n",
            "Epoch 27/100\n",
            "\u001b[1m40/40\u001b[0m \u001b[32m━━━━━━━━━━━━━━━━━━━━\u001b[0m\u001b[37m\u001b[0m \u001b[1m0s\u001b[0m 7ms/step - loss: 0.0340 - mse: 0.0340 - val_loss: 0.0066 - val_mse: 0.0066\n",
            "\u001b[1m13/13\u001b[0m \u001b[32m━━━━━━━━━━━━━━━━━━━━\u001b[0m\u001b[37m\u001b[0m \u001b[1m1s\u001b[0m 27ms/step\n",
            "RNN Metrics:\n",
            "MSE: 0.006657045060049902\n",
            "RMSE: 0.08159071675166178\n",
            "MAE: 0.06428410423740806\n",
            "R²: 0.9932174843080429\n",
            "Explained Variance: 0.9932870372167524\n"
          ]
        }
      ]
    },
    {
      "cell_type": "markdown",
      "source": [
        "# **Linear Regression**"
      ],
      "metadata": {
        "id": "20jBf1aUwuQd"
      }
    },
    {
      "cell_type": "code",
      "source": [
        "from sklearn.linear_model import LinearRegression\n",
        "from sklearn.metrics import mean_squared_error, mean_absolute_error, r2_score, explained_variance_score\n",
        "\n",
        "# Khởi tạo và huấn luyện mô hình Linear Regression\n",
        "lr_model = LinearRegression()\n",
        "lr_model.fit(X_train, y_train)\n",
        "\n",
        "# Dự đoán và đánh giá\n",
        "y_pred_lr = lr_model.predict(X_test)\n",
        "mse_lr = mean_squared_error(y_test, y_pred_lr)\n",
        "rmse_lr = np.sqrt(mse_lr)\n",
        "mae_lr = mean_absolute_error(y_test, y_pred_lr)\n",
        "r2_lr = r2_score(y_test, y_pred_lr)\n",
        "explained_var_lr = explained_variance_score(y_test, y_pred_lr)\n",
        "\n",
        "# In kết quả đánh giá\n",
        "print(f\"Linear Regression Metrics:\\nMSE: {mse_lr}\\nRMSE: {rmse_lr}\\nMAE: {mae_lr}\\nR²: {r2_lr}\\nExplained Variance: {explained_var_lr}\")"
      ],
      "metadata": {
        "colab": {
          "base_uri": "https://localhost:8080/"
        },
        "id": "PxZGLSFcww7z",
        "outputId": "377da49f-a5f3-4217-cdae-109ed159935d"
      },
      "execution_count": null,
      "outputs": [
        {
          "output_type": "stream",
          "name": "stdout",
          "text": [
            "Linear Regression Metrics:\n",
            "MSE: 0.0019877793220660573\n",
            "RMSE: 0.04458451886099094\n",
            "MAE: 0.03877742402652215\n",
            "R²: 0.9979747554173893\n",
            "Explained Variance: 0.9979814351705155\n"
          ]
        }
      ]
    },
    {
      "cell_type": "markdown",
      "source": [
        "# **SVM**"
      ],
      "metadata": {
        "id": "WGlOx5R3w0KX"
      }
    },
    {
      "cell_type": "code",
      "source": [
        "from sklearn.svm import SVR\n",
        "\n",
        "# Khởi tạo và huấn luyện mô hình SVM\n",
        "svm_model = SVR(kernel='rbf')\n",
        "svm_model.fit(X_train, y_train)\n",
        "\n",
        "# Dự đoán và đánh giá\n",
        "y_pred_svm = svm_model.predict(X_test)\n",
        "mse_svm = mean_squared_error(y_test, y_pred_svm)\n",
        "rmse_svm = np.sqrt(mse_svm)\n",
        "mae_svm = mean_absolute_error(y_test, y_pred_svm)\n",
        "r2_svm = r2_score(y_test, y_pred_svm)\n",
        "explained_var_svm = explained_variance_score(y_test, y_pred_svm)\n",
        "\n",
        "# In kết quả đánh giá\n",
        "print(f\"SVM Metrics:\\nMSE: {mse_svm}\\nRMSE: {rmse_svm}\\nMAE: {mae_svm}\\nR²: {r2_svm}\\nExplained Variance: {explained_var_svm}\")"
      ],
      "metadata": {
        "colab": {
          "base_uri": "https://localhost:8080/"
        },
        "id": "ZxGHwtRWw1cq",
        "outputId": "2101b2b8-cd2a-4010-f037-af74536daa93"
      },
      "execution_count": null,
      "outputs": [
        {
          "output_type": "stream",
          "name": "stdout",
          "text": [
            "SVM Metrics:\n",
            "MSE: 0.8988112095639821\n",
            "RMSE: 0.9480565434424163\n",
            "MAE: 0.80925861492889\n",
            "R²: 0.0842481794874701\n",
            "Explained Variance: 0.09353707835243397\n"
          ]
        }
      ]
    },
    {
      "cell_type": "markdown",
      "source": [
        "# **Decision Tree Regressor**"
      ],
      "metadata": {
        "id": "whAa5BEUw4FV"
      }
    },
    {
      "cell_type": "code",
      "source": [
        "from sklearn.tree import DecisionTreeRegressor\n",
        "\n",
        "# Khởi tạo và huấn luyện mô hình Decision Tree\n",
        "dt_model = DecisionTreeRegressor(random_state=42)\n",
        "dt_model.fit(X_train, y_train)\n",
        "\n",
        "# Dự đoán và đánh giá\n",
        "y_pred_dt = dt_model.predict(X_test)\n",
        "mse_dt = mean_squared_error(y_test, y_pred_dt)\n",
        "rmse_dt = np.sqrt(mse_dt)\n",
        "mae_dt = mean_absolute_error(y_test, y_pred_dt)\n",
        "r2_dt = r2_score(y_test, y_pred_dt)\n",
        "explained_var_dt = explained_variance_score(y_test, y_pred_dt)\n",
        "\n",
        "# In kết quả đánh giá\n",
        "print(f\"Decision Tree Metrics:\\nMSE: {mse_dt}\\nRMSE: {rmse_dt}\\nMAE: {mae_dt}\\nR²: {r2_dt}\\nExplained Variance: {explained_var_dt}\")"
      ],
      "metadata": {
        "colab": {
          "base_uri": "https://localhost:8080/"
        },
        "id": "pQo1Lueaw6d6",
        "outputId": "00f6539b-875e-4702-c9b9-c0e787fa5dcd"
      },
      "execution_count": null,
      "outputs": [
        {
          "output_type": "stream",
          "name": "stdout",
          "text": [
            "Decision Tree Metrics:\n",
            "MSE: 0.004208843878478506\n",
            "RMSE: 0.06487560310685755\n",
            "MAE: 0.05232540954613809\n",
            "R²: 0.9957118286877625\n",
            "Explained Variance: 0.9957123648265628\n"
          ]
        }
      ]
    },
    {
      "cell_type": "markdown",
      "source": [
        "# **Random Forest Regressor**"
      ],
      "metadata": {
        "id": "YRbffKvzw-2e"
      }
    },
    {
      "cell_type": "code",
      "source": [
        "from sklearn.ensemble import RandomForestRegressor\n",
        "\n",
        "# Khởi tạo và huấn luyện mô hình Random Forest\n",
        "rf_model = RandomForestRegressor(n_estimators=100, random_state=42)\n",
        "rf_model.fit(X_train, y_train)\n",
        "\n",
        "# Dự đoán và đánh giá\n",
        "y_pred_rf = rf_model.predict(X_test)\n",
        "mse_rf = mean_squared_error(y_test, y_pred_rf)\n",
        "rmse_rf = np.sqrt(mse_rf)\n",
        "mae_rf = mean_absolute_error(y_test, y_pred_rf)\n",
        "r2_rf = r2_score(y_test, y_pred_rf)\n",
        "explained_var_rf = explained_variance_score(y_test, y_pred_rf)\n",
        "\n",
        "# In kết quả đánh giá\n",
        "print(f\"Random Forest Metrics:\\nMSE: {mse_rf}\\nRMSE: {rmse_rf}\\nMAE: {mae_rf}\\nR²: {r2_rf}\\nExplained Variance: {explained_var_rf}\")"
      ],
      "metadata": {
        "colab": {
          "base_uri": "https://localhost:8080/"
        },
        "id": "u0YSlZDQw9hM",
        "outputId": "baa63437-fb10-4c18-f75b-d10541fbee64"
      },
      "execution_count": null,
      "outputs": [
        {
          "output_type": "stream",
          "name": "stdout",
          "text": [
            "Random Forest Metrics:\n",
            "MSE: 0.002290128454685767\n",
            "RMSE: 0.047855286590780824\n",
            "MAE: 0.040093777241897464\n",
            "R²: 0.9976667076697859\n",
            "Explained Variance: 0.9976672200635351\n"
          ]
        }
      ]
    },
    {
      "cell_type": "code",
      "source": [
        "# In kết quả các mô hình\n",
        "print(\"\\nModel Comparison:\")\n",
        "print(f\"Linear Regression - MSE: {mse_lr}, RMSE: {rmse_lr}, MAE: {mae_lr}, R²: {r2_lr}, Explained Variance: {explained_var_lr}\")\n",
        "print(f\"SVM - MSE: {mse_svm}, RMSE: {rmse_svm}, MAE: {mae_svm}, R²: {r2_svm}, Explained Variance: {explained_var_svm}\")\n",
        "print(f\"Decision Tree - MSE: {mse_dt}, RMSE: {rmse_dt}, MAE: {mae_dt}, R²: {r2_dt}, Explained Variance: {explained_var_dt}\")\n",
        "print(f\"Random Forest - MSE: {mse_rf}, RMSE: {rmse_rf}, MAE: {mae_rf}, R²: {r2_rf}, Explained Variance: {explained_var_rf}\")"
      ],
      "metadata": {
        "colab": {
          "base_uri": "https://localhost:8080/"
        },
        "id": "IwECbb6MxD9a",
        "outputId": "291848bb-ecf1-4510-b022-b2a9e5a4cfb3"
      },
      "execution_count": null,
      "outputs": [
        {
          "output_type": "stream",
          "name": "stdout",
          "text": [
            "\n",
            "Model Comparison:\n",
            "Linear Regression - MSE: 0.0019877793220660573, RMSE: 0.04458451886099094, MAE: 0.03877742402652215, R²: 0.9979747554173893, Explained Variance: 0.9979814351705155\n",
            "SVM - MSE: 0.8988112095639821, RMSE: 0.9480565434424163, MAE: 0.80925861492889, R²: 0.0842481794874701, Explained Variance: 0.09353707835243397\n",
            "Decision Tree - MSE: 0.004208843878478506, RMSE: 0.06487560310685755, MAE: 0.05232540954613809, R²: 0.9957118286877625, Explained Variance: 0.9957123648265628\n",
            "Random Forest - MSE: 0.002290128454685767, RMSE: 0.047855286590780824, MAE: 0.040093777241897464, R²: 0.9976667076697859, Explained Variance: 0.9976672200635351\n"
          ]
        }
      ]
    },
    {
      "cell_type": "markdown",
      "source": [
        "# **Dùng Early Stopping và Dropout để giảm bớt Overfitting cho FFNN**"
      ],
      "metadata": {
        "id": "vaIjWwI7xSVg"
      }
    },
    {
      "cell_type": "code",
      "source": [
        "from keras.callbacks import EarlyStopping\n",
        "import matplotlib.pyplot as plt\n",
        "\n",
        "# Khởi tạo mô hình FFNN với EarlyStopping\n",
        "def build_ffnn(input_dim):\n",
        "    model = Sequential()\n",
        "    model.add(Dense(128, activation='relu', input_dim=input_dim))\n",
        "    model.add(Dropout(0.3))  # Dropout để ngăn ngừa overfitting\n",
        "    model.add(Dense(64, activation='relu'))\n",
        "    model.add(Dropout(0.3))\n",
        "    model.add(Dense(32, activation='relu'))\n",
        "    model.add(Dense(1))  # Layer cuối cùng với 1 unit, không activation\n",
        "    model.compile(optimizer='adam', loss='mse', metrics=['mse'])\n",
        "    return model\n",
        "\n",
        "# Early stopping\n",
        "early_stopping = EarlyStopping(monitor='val_loss', patience=10, restore_best_weights=True)\n",
        "\n",
        "# Huấn luyện mô hình\n",
        "input_dim = X_train.shape[1]\n",
        "ffnn_model = build_ffnn(input_dim)\n",
        "history = ffnn_model.fit(X_train, y_train, validation_split=0.2, epochs=100, batch_size=32,\n",
        "                         callbacks=[early_stopping], verbose=1)\n",
        "\n",
        "# Dự đoán và đánh giá\n",
        "y_pred = ffnn_model.predict(X_test)\n",
        "mse = mean_squared_error(y_test, y_pred)\n",
        "rmse = np.sqrt(mse)\n",
        "mae = mean_absolute_error(y_test, y_pred)\n",
        "r2 = r2_score(y_test, y_pred)\n",
        "explained_var = explained_variance_score(y_test, y_pred)\n",
        "\n",
        "# In kết quả đánh giá\n",
        "print(f\"FFNN Metrics:\\nMSE: {mse}\\nRMSE: {rmse}\\nMAE: {mae}\\nR²: {r2}\\nExplained Variance: {explained_var}\")\n",
        "\n",
        "# Vẽ đồ thị loss và MSE\n",
        "plt.figure(figsize=(12, 6))\n",
        "plt.subplot(1, 2, 1)\n",
        "plt.plot(history.history['loss'], label='Train Loss')\n",
        "plt.plot(history.history['val_loss'], label='Val Loss')\n",
        "plt.title('Loss vs Epochs')\n",
        "plt.xlabel('Epochs')\n",
        "plt.ylabel('Loss')\n",
        "plt.legend()\n",
        "\n",
        "plt.subplot(1, 2, 2)\n",
        "plt.plot(history.history['mse'], label='Train MSE')\n",
        "plt.plot(history.history['val_mse'], label='Val MSE')\n",
        "plt.title('MSE vs Epochs')\n",
        "plt.xlabel('Epochs')\n",
        "plt.ylabel('MSE')\n",
        "plt.legend()\n",
        "\n",
        "plt.tight_layout()\n",
        "plt.show()"
      ],
      "metadata": {
        "colab": {
          "base_uri": "https://localhost:8080/",
          "height": 1000
        },
        "id": "wrDt_Wb7xZ7u",
        "outputId": "fcd8068e-be19-4f5f-aea4-a83903ba756b"
      },
      "execution_count": null,
      "outputs": [
        {
          "output_type": "stream",
          "name": "stdout",
          "text": [
            "Epoch 1/100\n",
            "\u001b[1m40/40\u001b[0m \u001b[32m━━━━━━━━━━━━━━━━━━━━\u001b[0m\u001b[37m\u001b[0m \u001b[1m2s\u001b[0m 7ms/step - loss: 79.3218 - mse: 79.3218 - val_loss: 1.1712 - val_mse: 1.1712\n",
            "Epoch 2/100\n",
            "\u001b[1m40/40\u001b[0m \u001b[32m━━━━━━━━━━━━━━━━━━━━\u001b[0m\u001b[37m\u001b[0m \u001b[1m0s\u001b[0m 3ms/step - loss: 10.0736 - mse: 10.0736 - val_loss: 1.2368 - val_mse: 1.2368\n",
            "Epoch 3/100\n",
            "\u001b[1m40/40\u001b[0m \u001b[32m━━━━━━━━━━━━━━━━━━━━\u001b[0m\u001b[37m\u001b[0m \u001b[1m1s\u001b[0m 10ms/step - loss: 6.0671 - mse: 6.0671 - val_loss: 1.2131 - val_mse: 1.2131\n",
            "Epoch 4/100\n",
            "\u001b[1m40/40\u001b[0m \u001b[32m━━━━━━━━━━━━━━━━━━━━\u001b[0m\u001b[37m\u001b[0m \u001b[1m0s\u001b[0m 4ms/step - loss: 4.4639 - mse: 4.4639 - val_loss: 1.3466 - val_mse: 1.3466\n",
            "Epoch 5/100\n",
            "\u001b[1m40/40\u001b[0m \u001b[32m━━━━━━━━━━━━━━━━━━━━\u001b[0m\u001b[37m\u001b[0m \u001b[1m0s\u001b[0m 4ms/step - loss: 4.1101 - mse: 4.1101 - val_loss: 1.0521 - val_mse: 1.0521\n",
            "Epoch 6/100\n",
            "\u001b[1m40/40\u001b[0m \u001b[32m━━━━━━━━━━━━━━━━━━━━\u001b[0m\u001b[37m\u001b[0m \u001b[1m1s\u001b[0m 13ms/step - loss: 2.8784 - mse: 2.8784 - val_loss: 1.0922 - val_mse: 1.0922\n",
            "Epoch 7/100\n",
            "\u001b[1m40/40\u001b[0m \u001b[32m━━━━━━━━━━━━━━━━━━━━\u001b[0m\u001b[37m\u001b[0m \u001b[1m0s\u001b[0m 4ms/step - loss: 2.3365 - mse: 2.3365 - val_loss: 1.1380 - val_mse: 1.1380\n",
            "Epoch 8/100\n",
            "\u001b[1m40/40\u001b[0m \u001b[32m━━━━━━━━━━━━━━━━━━━━\u001b[0m\u001b[37m\u001b[0m \u001b[1m0s\u001b[0m 3ms/step - loss: 2.2640 - mse: 2.2640 - val_loss: 1.0328 - val_mse: 1.0328\n",
            "Epoch 9/100\n",
            "\u001b[1m40/40\u001b[0m \u001b[32m━━━━━━━━━━━━━━━━━━━━\u001b[0m\u001b[37m\u001b[0m \u001b[1m1s\u001b[0m 11ms/step - loss: 1.9652 - mse: 1.9652 - val_loss: 0.9734 - val_mse: 0.9734\n",
            "Epoch 10/100\n",
            "\u001b[1m40/40\u001b[0m \u001b[32m━━━━━━━━━━━━━━━━━━━━\u001b[0m\u001b[37m\u001b[0m \u001b[1m0s\u001b[0m 3ms/step - loss: 1.9012 - mse: 1.9012 - val_loss: 1.0306 - val_mse: 1.0306\n",
            "Epoch 11/100\n",
            "\u001b[1m40/40\u001b[0m \u001b[32m━━━━━━━━━━━━━━━━━━━━\u001b[0m\u001b[37m\u001b[0m \u001b[1m0s\u001b[0m 3ms/step - loss: 1.8519 - mse: 1.8519 - val_loss: 0.9783 - val_mse: 0.9783\n",
            "Epoch 12/100\n",
            "\u001b[1m40/40\u001b[0m \u001b[32m━━━━━━━━━━━━━━━━━━━━\u001b[0m\u001b[37m\u001b[0m \u001b[1m0s\u001b[0m 3ms/step - loss: 1.6253 - mse: 1.6253 - val_loss: 0.9800 - val_mse: 0.9800\n",
            "Epoch 13/100\n",
            "\u001b[1m40/40\u001b[0m \u001b[32m━━━━━━━━━━━━━━━━━━━━\u001b[0m\u001b[37m\u001b[0m \u001b[1m0s\u001b[0m 3ms/step - loss: 1.4945 - mse: 1.4945 - val_loss: 0.9844 - val_mse: 0.9844\n",
            "Epoch 14/100\n",
            "\u001b[1m40/40\u001b[0m \u001b[32m━━━━━━━━━━━━━━━━━━━━\u001b[0m\u001b[37m\u001b[0m \u001b[1m0s\u001b[0m 3ms/step - loss: 1.3759 - mse: 1.3759 - val_loss: 0.9724 - val_mse: 0.9724\n",
            "Epoch 15/100\n",
            "\u001b[1m40/40\u001b[0m \u001b[32m━━━━━━━━━━━━━━━━━━━━\u001b[0m\u001b[37m\u001b[0m \u001b[1m0s\u001b[0m 3ms/step - loss: 1.2995 - mse: 1.2995 - val_loss: 0.9591 - val_mse: 0.9591\n",
            "Epoch 16/100\n",
            "\u001b[1m40/40\u001b[0m \u001b[32m━━━━━━━━━━━━━━━━━━━━\u001b[0m\u001b[37m\u001b[0m \u001b[1m0s\u001b[0m 3ms/step - loss: 1.3341 - mse: 1.3341 - val_loss: 0.9543 - val_mse: 0.9543\n",
            "Epoch 17/100\n",
            "\u001b[1m40/40\u001b[0m \u001b[32m━━━━━━━━━━━━━━━━━━━━\u001b[0m\u001b[37m\u001b[0m \u001b[1m0s\u001b[0m 3ms/step - loss: 1.3149 - mse: 1.3149 - val_loss: 0.9745 - val_mse: 0.9745\n",
            "Epoch 18/100\n",
            "\u001b[1m40/40\u001b[0m \u001b[32m━━━━━━━━━━━━━━━━━━━━\u001b[0m\u001b[37m\u001b[0m \u001b[1m0s\u001b[0m 3ms/step - loss: 1.3380 - mse: 1.3380 - val_loss: 0.9459 - val_mse: 0.9459\n",
            "Epoch 19/100\n",
            "\u001b[1m40/40\u001b[0m \u001b[32m━━━━━━━━━━━━━━━━━━━━\u001b[0m\u001b[37m\u001b[0m \u001b[1m0s\u001b[0m 3ms/step - loss: 1.1345 - mse: 1.1345 - val_loss: 0.9263 - val_mse: 0.9263\n",
            "Epoch 20/100\n",
            "\u001b[1m40/40\u001b[0m \u001b[32m━━━━━━━━━━━━━━━━━━━━\u001b[0m\u001b[37m\u001b[0m \u001b[1m0s\u001b[0m 3ms/step - loss: 1.0532 - mse: 1.0532 - val_loss: 0.8908 - val_mse: 0.8908\n",
            "Epoch 21/100\n",
            "\u001b[1m40/40\u001b[0m \u001b[32m━━━━━━━━━━━━━━━━━━━━\u001b[0m\u001b[37m\u001b[0m \u001b[1m0s\u001b[0m 3ms/step - loss: 1.1502 - mse: 1.1502 - val_loss: 0.8502 - val_mse: 0.8502\n",
            "Epoch 22/100\n",
            "\u001b[1m40/40\u001b[0m \u001b[32m━━━━━━━━━━━━━━━━━━━━\u001b[0m\u001b[37m\u001b[0m \u001b[1m0s\u001b[0m 3ms/step - loss: 1.0377 - mse: 1.0377 - val_loss: 0.7963 - val_mse: 0.7963\n",
            "Epoch 23/100\n",
            "\u001b[1m40/40\u001b[0m \u001b[32m━━━━━━━━━━━━━━━━━━━━\u001b[0m\u001b[37m\u001b[0m \u001b[1m0s\u001b[0m 3ms/step - loss: 1.0439 - mse: 1.0439 - val_loss: 0.7827 - val_mse: 0.7827\n",
            "Epoch 24/100\n",
            "\u001b[1m40/40\u001b[0m \u001b[32m━━━━━━━━━━━━━━━━━━━━\u001b[0m\u001b[37m\u001b[0m \u001b[1m0s\u001b[0m 3ms/step - loss: 0.8312 - mse: 0.8312 - val_loss: 0.6816 - val_mse: 0.6816\n",
            "Epoch 25/100\n",
            "\u001b[1m40/40\u001b[0m \u001b[32m━━━━━━━━━━━━━━━━━━━━\u001b[0m\u001b[37m\u001b[0m \u001b[1m0s\u001b[0m 3ms/step - loss: 0.8896 - mse: 0.8896 - val_loss: 0.6435 - val_mse: 0.6435\n",
            "Epoch 26/100\n",
            "\u001b[1m40/40\u001b[0m \u001b[32m━━━━━━━━━━━━━━━━━━━━\u001b[0m\u001b[37m\u001b[0m \u001b[1m0s\u001b[0m 3ms/step - loss: 0.7269 - mse: 0.7269 - val_loss: 0.5130 - val_mse: 0.5130\n",
            "Epoch 27/100\n",
            "\u001b[1m40/40\u001b[0m \u001b[32m━━━━━━━━━━━━━━━━━━━━\u001b[0m\u001b[37m\u001b[0m \u001b[1m0s\u001b[0m 3ms/step - loss: 0.6392 - mse: 0.6392 - val_loss: 0.4320 - val_mse: 0.4320\n",
            "Epoch 28/100\n",
            "\u001b[1m40/40\u001b[0m \u001b[32m━━━━━━━━━━━━━━━━━━━━\u001b[0m\u001b[37m\u001b[0m \u001b[1m0s\u001b[0m 3ms/step - loss: 0.5991 - mse: 0.5991 - val_loss: 0.4138 - val_mse: 0.4138\n",
            "Epoch 29/100\n",
            "\u001b[1m40/40\u001b[0m \u001b[32m━━━━━━━━━━━━━━━━━━━━\u001b[0m\u001b[37m\u001b[0m \u001b[1m0s\u001b[0m 3ms/step - loss: 0.5385 - mse: 0.5385 - val_loss: 0.3030 - val_mse: 0.3030\n",
            "Epoch 30/100\n",
            "\u001b[1m40/40\u001b[0m \u001b[32m━━━━━━━━━━━━━━━━━━━━\u001b[0m\u001b[37m\u001b[0m \u001b[1m0s\u001b[0m 3ms/step - loss: 0.5196 - mse: 0.5196 - val_loss: 0.2408 - val_mse: 0.2408\n",
            "Epoch 31/100\n",
            "\u001b[1m40/40\u001b[0m \u001b[32m━━━━━━━━━━━━━━━━━━━━\u001b[0m\u001b[37m\u001b[0m \u001b[1m0s\u001b[0m 4ms/step - loss: 0.4497 - mse: 0.4497 - val_loss: 0.2058 - val_mse: 0.2058\n",
            "Epoch 32/100\n",
            "\u001b[1m40/40\u001b[0m \u001b[32m━━━━━━━━━━━━━━━━━━━━\u001b[0m\u001b[37m\u001b[0m \u001b[1m0s\u001b[0m 3ms/step - loss: 0.4357 - mse: 0.4357 - val_loss: 0.2564 - val_mse: 0.2564\n",
            "Epoch 33/100\n",
            "\u001b[1m40/40\u001b[0m \u001b[32m━━━━━━━━━━━━━━━━━━━━\u001b[0m\u001b[37m\u001b[0m \u001b[1m0s\u001b[0m 5ms/step - loss: 0.4277 - mse: 0.4277 - val_loss: 0.1865 - val_mse: 0.1865\n",
            "Epoch 34/100\n",
            "\u001b[1m40/40\u001b[0m \u001b[32m━━━━━━━━━━━━━━━━━━━━\u001b[0m\u001b[37m\u001b[0m \u001b[1m0s\u001b[0m 6ms/step - loss: 0.3826 - mse: 0.3826 - val_loss: 0.1505 - val_mse: 0.1505\n",
            "Epoch 35/100\n",
            "\u001b[1m40/40\u001b[0m \u001b[32m━━━━━━━━━━━━━━━━━━━━\u001b[0m\u001b[37m\u001b[0m \u001b[1m0s\u001b[0m 5ms/step - loss: 0.3431 - mse: 0.3431 - val_loss: 0.1602 - val_mse: 0.1602\n",
            "Epoch 36/100\n",
            "\u001b[1m40/40\u001b[0m \u001b[32m━━━━━━━━━━━━━━━━━━━━\u001b[0m\u001b[37m\u001b[0m \u001b[1m0s\u001b[0m 4ms/step - loss: 0.3601 - mse: 0.3601 - val_loss: 0.1482 - val_mse: 0.1482\n",
            "Epoch 37/100\n",
            "\u001b[1m40/40\u001b[0m \u001b[32m━━━━━━━━━━━━━━━━━━━━\u001b[0m\u001b[37m\u001b[0m \u001b[1m0s\u001b[0m 4ms/step - loss: 0.3155 - mse: 0.3155 - val_loss: 0.1806 - val_mse: 0.1806\n",
            "Epoch 38/100\n",
            "\u001b[1m40/40\u001b[0m \u001b[32m━━━━━━━━━━━━━━━━━━━━\u001b[0m\u001b[37m\u001b[0m \u001b[1m0s\u001b[0m 4ms/step - loss: 0.3239 - mse: 0.3239 - val_loss: 0.1557 - val_mse: 0.1557\n",
            "Epoch 39/100\n",
            "\u001b[1m40/40\u001b[0m \u001b[32m━━━━━━━━━━━━━━━━━━━━\u001b[0m\u001b[37m\u001b[0m \u001b[1m0s\u001b[0m 7ms/step - loss: 0.2797 - mse: 0.2797 - val_loss: 0.1393 - val_mse: 0.1393\n",
            "Epoch 40/100\n",
            "\u001b[1m40/40\u001b[0m \u001b[32m━━━━━━━━━━━━━━━━━━━━\u001b[0m\u001b[37m\u001b[0m \u001b[1m0s\u001b[0m 6ms/step - loss: 0.2829 - mse: 0.2829 - val_loss: 0.1443 - val_mse: 0.1443\n",
            "Epoch 41/100\n",
            "\u001b[1m40/40\u001b[0m \u001b[32m━━━━━━━━━━━━━━━━━━━━\u001b[0m\u001b[37m\u001b[0m \u001b[1m0s\u001b[0m 5ms/step - loss: 0.2576 - mse: 0.2576 - val_loss: 0.1756 - val_mse: 0.1756\n",
            "Epoch 42/100\n",
            "\u001b[1m40/40\u001b[0m \u001b[32m━━━━━━━━━━━━━━━━━━━━\u001b[0m\u001b[37m\u001b[0m \u001b[1m0s\u001b[0m 7ms/step - loss: 0.3105 - mse: 0.3105 - val_loss: 0.1426 - val_mse: 0.1426\n",
            "Epoch 43/100\n",
            "\u001b[1m40/40\u001b[0m \u001b[32m━━━━━━━━━━━━━━━━━━━━\u001b[0m\u001b[37m\u001b[0m \u001b[1m1s\u001b[0m 7ms/step - loss: 0.2628 - mse: 0.2628 - val_loss: 0.1461 - val_mse: 0.1461\n",
            "Epoch 44/100\n",
            "\u001b[1m40/40\u001b[0m \u001b[32m━━━━━━━━━━━━━━━━━━━━\u001b[0m\u001b[37m\u001b[0m \u001b[1m0s\u001b[0m 6ms/step - loss: 0.2368 - mse: 0.2368 - val_loss: 0.1408 - val_mse: 0.1408\n",
            "Epoch 45/100\n",
            "\u001b[1m40/40\u001b[0m \u001b[32m━━━━━━━━━━━━━━━━━━━━\u001b[0m\u001b[37m\u001b[0m \u001b[1m0s\u001b[0m 3ms/step - loss: 0.2440 - mse: 0.2440 - val_loss: 0.1393 - val_mse: 0.1393\n",
            "Epoch 46/100\n",
            "\u001b[1m40/40\u001b[0m \u001b[32m━━━━━━━━━━━━━━━━━━━━\u001b[0m\u001b[37m\u001b[0m \u001b[1m0s\u001b[0m 3ms/step - loss: 0.2265 - mse: 0.2265 - val_loss: 0.1528 - val_mse: 0.1528\n",
            "Epoch 47/100\n",
            "\u001b[1m40/40\u001b[0m \u001b[32m━━━━━━━━━━━━━━━━━━━━\u001b[0m\u001b[37m\u001b[0m \u001b[1m0s\u001b[0m 3ms/step - loss: 0.2237 - mse: 0.2237 - val_loss: 0.1123 - val_mse: 0.1123\n",
            "Epoch 48/100\n",
            "\u001b[1m40/40\u001b[0m \u001b[32m━━━━━━━━━━━━━━━━━━━━\u001b[0m\u001b[37m\u001b[0m \u001b[1m0s\u001b[0m 3ms/step - loss: 0.2534 - mse: 0.2534 - val_loss: 0.1167 - val_mse: 0.1167\n",
            "Epoch 49/100\n",
            "\u001b[1m40/40\u001b[0m \u001b[32m━━━━━━━━━━━━━━━━━━━━\u001b[0m\u001b[37m\u001b[0m \u001b[1m0s\u001b[0m 3ms/step - loss: 0.2037 - mse: 0.2037 - val_loss: 0.1147 - val_mse: 0.1147\n",
            "Epoch 50/100\n",
            "\u001b[1m40/40\u001b[0m \u001b[32m━━━━━━━━━━━━━━━━━━━━\u001b[0m\u001b[37m\u001b[0m \u001b[1m0s\u001b[0m 4ms/step - loss: 0.2033 - mse: 0.2033 - val_loss: 0.1439 - val_mse: 0.1439\n",
            "Epoch 51/100\n",
            "\u001b[1m40/40\u001b[0m \u001b[32m━━━━━━━━━━━━━━━━━━━━\u001b[0m\u001b[37m\u001b[0m \u001b[1m0s\u001b[0m 3ms/step - loss: 0.1983 - mse: 0.1983 - val_loss: 0.1501 - val_mse: 0.1501\n",
            "Epoch 52/100\n",
            "\u001b[1m40/40\u001b[0m \u001b[32m━━━━━━━━━━━━━━━━━━━━\u001b[0m\u001b[37m\u001b[0m \u001b[1m0s\u001b[0m 3ms/step - loss: 0.1761 - mse: 0.1761 - val_loss: 0.1533 - val_mse: 0.1533\n",
            "Epoch 53/100\n",
            "\u001b[1m40/40\u001b[0m \u001b[32m━━━━━━━━━━━━━━━━━━━━\u001b[0m\u001b[37m\u001b[0m \u001b[1m0s\u001b[0m 3ms/step - loss: 0.1867 - mse: 0.1867 - val_loss: 0.1470 - val_mse: 0.1470\n",
            "Epoch 54/100\n",
            "\u001b[1m40/40\u001b[0m \u001b[32m━━━━━━━━━━━━━━━━━━━━\u001b[0m\u001b[37m\u001b[0m \u001b[1m0s\u001b[0m 3ms/step - loss: 0.1935 - mse: 0.1935 - val_loss: 0.1445 - val_mse: 0.1445\n",
            "Epoch 55/100\n",
            "\u001b[1m40/40\u001b[0m \u001b[32m━━━━━━━━━━━━━━━━━━━━\u001b[0m\u001b[37m\u001b[0m \u001b[1m0s\u001b[0m 3ms/step - loss: 0.1857 - mse: 0.1857 - val_loss: 0.1397 - val_mse: 0.1397\n",
            "Epoch 56/100\n",
            "\u001b[1m40/40\u001b[0m \u001b[32m━━━━━━━━━━━━━━━━━━━━\u001b[0m\u001b[37m\u001b[0m \u001b[1m0s\u001b[0m 3ms/step - loss: 0.1839 - mse: 0.1839 - val_loss: 0.1190 - val_mse: 0.1190\n",
            "Epoch 57/100\n",
            "\u001b[1m40/40\u001b[0m \u001b[32m━━━━━━━━━━━━━━━━━━━━\u001b[0m\u001b[37m\u001b[0m \u001b[1m0s\u001b[0m 3ms/step - loss: 0.1698 - mse: 0.1698 - val_loss: 0.1129 - val_mse: 0.1129\n",
            "\u001b[1m13/13\u001b[0m \u001b[32m━━━━━━━━━━━━━━━━━━━━\u001b[0m\u001b[37m\u001b[0m \u001b[1m0s\u001b[0m 5ms/step\n",
            "FFNN Metrics:\n",
            "MSE: 0.10820520443711795\n",
            "RMSE: 0.3289455949501649\n",
            "MAE: 0.25745871570934986\n",
            "R²: 0.8897553658678892\n",
            "Explained Variance: 0.8906829898455537\n"
          ]
        },
        {
          "output_type": "display_data",
          "data": {
            "text/plain": [
              "<Figure size 1200x600 with 2 Axes>"
            ],
            "image/png": "[encoded data removed]"
          },
          "metadata": {}
        }
      ]
    },
    {
      "cell_type": "markdown",
      "source": [
        "# **Dùng EarlyStopping và Dropout cho mô hình LSTM của RNN**"
      ],
      "metadata": {
        "id": "mHbt5MWqxjqO"
      }
    },
    {
      "cell_type": "code",
      "source": [
        "import numpy as np\n",
        "from keras.models import Sequential\n",
        "from keras.layers import LSTM, Dense, Dropout\n",
        "from keras.callbacks import EarlyStopping\n",
        "import matplotlib.pyplot as plt\n",
        "from sklearn.metrics import mean_squared_error, mean_absolute_error, r2_score, explained_variance_score\n",
        "\n",
        "# Chuẩn hóa dữ liệu đầu vào cho RNN\n",
        "scaler = MinMaxScaler()\n",
        "X_train_scaled = scaler.fit_transform(X_train)\n",
        "X_test_scaled = scaler.transform(X_test)\n",
        "\n",
        "# Reshape dữ liệu cho LSTM (dạng [samples, time steps, features])\n",
        "X_train_rnn = X_train_scaled.reshape((X_train_scaled.shape[0], 1, X_train_scaled.shape[1]))\n",
        "X_test_rnn = X_test_scaled.reshape((X_test_scaled.shape[0], 1, X_test_scaled.shape[1]))\n",
        "\n",
        "print(f\"Shape of X_train_rnn: {X_train_rnn.shape}\")  # Expected shape: (1600, 32, 1)\n",
        "print(f\"Shape of X_test_rnn: {X_test_rnn.shape}\")    # Expected shape: (400, 32, 1)\n",
        "\n",
        "# Xây dựng mô hình RNN với LSTM\n",
        "def build_rnn(input_shape):\n",
        "    model = Sequential()\n",
        "\n",
        "    # LSTM layer đầu tiên\n",
        "    model.add(LSTM(128, activation='relu', return_sequences=True, input_shape=input_shape))\n",
        "    model.add(Dropout(0.3))  # Dropout để giảm overfitting\n",
        "\n",
        "    # LSTM layer thứ hai\n",
        "    model.add(LSTM(64, activation='relu'))\n",
        "    model.add(Dropout(0.3))\n",
        "\n",
        "    # Layer Dense (output)\n",
        "    model.add(Dense(1))  # Một unit đầu ra cho regression task\n",
        "    model.compile(optimizer='adam', loss='mse', metrics=['mse'])  # Compile model\n",
        "    return model\n",
        "\n",
        "# Tạo đối tượng EarlyStopping để ngừng huấn luyện khi mất mát không giảm\n",
        "early_stopping_rnn = EarlyStopping(monitor='val_loss', patience=10, restore_best_weights=True)\n",
        "\n",
        "# Huấn luyện mô hình RNN\n",
        "rnn_model = build_rnn((1, 32))  # Truyền đúng input_shape là (time_steps, features), có thể chỉnh sửa cho phù hợp (1,32) hoặc (1,10)\n",
        "history_rnn = rnn_model.fit(X_train_rnn, y_train, validation_split=0.2, epochs=100, batch_size=32,\n",
        "                            callbacks=[early_stopping_rnn], verbose=1)\n",
        "\n",
        "# Dự đoán và đánh giá mô hình\n",
        "y_pred_rnn = rnn_model.predict(X_test_rnn)\n",
        "mse_rnn = mean_squared_error(y_test, y_pred_rnn)\n",
        "rmse_rnn = np.sqrt(mse_rnn)\n",
        "mae_rnn = mean_absolute_error(y_test, y_pred_rnn)\n",
        "r2_rnn = r2_score(y_test, y_pred_rnn)\n",
        "explained_var_rnn = explained_variance_score(y_test, y_pred_rnn)\n",
        "\n",
        "# In kết quả đánh giá\n",
        "print(f\"RNN Metrics:\\nMSE: {mse_rnn}\\nRMSE: {rmse_rnn}\\nMAE: {mae_rnn}\\nR²: {r2_rnn}\\nExplained Variance: {explained_var_rnn}\")\n",
        "\n",
        "# Vẽ đồ thị loss và MSE\n",
        "plt.figure(figsize=(12, 6))\n",
        "\n",
        "# Loss graph\n",
        "plt.subplot(1, 2, 1)\n",
        "plt.plot(history_rnn.history['loss'], label='Train Loss')\n",
        "plt.plot(history_rnn.history['val_loss'], label='Val Loss')\n",
        "plt.title('Loss vs Epochs')\n",
        "plt.xlabel('Epochs')\n",
        "plt.ylabel('Loss')\n",
        "plt.legend()\n",
        "\n",
        "# MSE graph\n",
        "plt.subplot(1, 2, 2)\n",
        "plt.plot(history_rnn.history['mse'], label='Train MSE')\n",
        "plt.plot(history_rnn.history['val_mse'], label='Val MSE')\n",
        "plt.title('MSE vs Epochs')\n",
        "plt.xlabel('Epochs')\n",
        "plt.ylabel('MSE')\n",
        "plt.legend()\n",
        "\n",
        "# Tinh chỉnh layout và hiển thị\n",
        "plt.tight_layout()\n",
        "plt.show()"
      ],
      "metadata": {
        "colab": {
          "base_uri": "https://localhost:8080/",
          "height": 1000
        },
        "id": "iHzD_IWkxmJm",
        "outputId": "bb30d93a-bab3-418d-d3d9-fcb5ea6d2c65"
      },
      "execution_count": null,
      "outputs": [
        {
          "output_type": "stream",
          "name": "stdout",
          "text": [
            "Shape of X_train_rnn: (1600, 1, 32)\n",
            "Shape of X_test_rnn: (400, 1, 32)\n",
            "Epoch 1/100\n",
            "\u001b[1m40/40\u001b[0m \u001b[32m━━━━━━━━━━━━━━━━━━━━\u001b[0m\u001b[37m\u001b[0m \u001b[1m4s\u001b[0m 24ms/step - loss: 0.9993 - mse: 0.9993 - val_loss: 0.9398 - val_mse: 0.9398\n",
            "Epoch 2/100\n",
            "\u001b[1m40/40\u001b[0m \u001b[32m━━━━━━━━━━━━━━━━━━━━\u001b[0m\u001b[37m\u001b[0m \u001b[1m1s\u001b[0m 10ms/step - loss: 0.9460 - mse: 0.9460 - val_loss: 0.6696 - val_mse: 0.6696\n",
            "Epoch 3/100\n",
            "\u001b[1m40/40\u001b[0m \u001b[32m━━━━━━━━━━━━━━━━━━━━\u001b[0m\u001b[37m\u001b[0m \u001b[1m1s\u001b[0m 10ms/step - loss: 0.5388 - mse: 0.5388 - val_loss: 0.0735 - val_mse: 0.0735\n",
            "Epoch 4/100\n",
            "\u001b[1m40/40\u001b[0m \u001b[32m━━━━━━━━━━━━━━━━━━━━\u001b[0m\u001b[37m\u001b[0m \u001b[1m0s\u001b[0m 12ms/step - loss: 0.1784 - mse: 0.1784 - val_loss: 0.0675 - val_mse: 0.0675\n",
            "Epoch 5/100\n",
            "\u001b[1m40/40\u001b[0m \u001b[32m━━━━━━━━━━━━━━━━━━━━\u001b[0m\u001b[37m\u001b[0m \u001b[1m1s\u001b[0m 12ms/step - loss: 0.1221 - mse: 0.1221 - val_loss: 0.0392 - val_mse: 0.0392\n",
            "Epoch 6/100\n",
            "\u001b[1m40/40\u001b[0m \u001b[32m━━━━━━━━━━━━━━━━━━━━\u001b[0m\u001b[37m\u001b[0m \u001b[1m0s\u001b[0m 11ms/step - loss: 0.0992 - mse: 0.0992 - val_loss: 0.0338 - val_mse: 0.0338\n",
            "Epoch 7/100\n",
            "\u001b[1m40/40\u001b[0m \u001b[32m━━━━━━━━━━━━━━━━━━━━\u001b[0m\u001b[37m\u001b[0m \u001b[1m0s\u001b[0m 8ms/step - loss: 0.0886 - mse: 0.0886 - val_loss: 0.0313 - val_mse: 0.0313\n",
            "Epoch 8/100\n",
            "\u001b[1m40/40\u001b[0m \u001b[32m━━━━━━━━━━━━━━━━━━━━\u001b[0m\u001b[37m\u001b[0m \u001b[1m0s\u001b[0m 6ms/step - loss: 0.0796 - mse: 0.0796 - val_loss: 0.0276 - val_mse: 0.0276\n",
            "Epoch 9/100\n",
            "\u001b[1m40/40\u001b[0m \u001b[32m━━━━━━━━━━━━━━━━━━━━\u001b[0m\u001b[37m\u001b[0m \u001b[1m0s\u001b[0m 7ms/step - loss: 0.0800 - mse: 0.0800 - val_loss: 0.0272 - val_mse: 0.0272\n",
            "Epoch 10/100\n",
            "\u001b[1m40/40\u001b[0m \u001b[32m━━━━━━━━━━━━━━━━━━━━\u001b[0m\u001b[37m\u001b[0m \u001b[1m0s\u001b[0m 6ms/step - loss: 0.0607 - mse: 0.0607 - val_loss: 0.0216 - val_mse: 0.0216\n",
            "Epoch 11/100\n",
            "\u001b[1m40/40\u001b[0m \u001b[32m━━━━━━━━━━━━━━━━━━━━\u001b[0m\u001b[37m\u001b[0m \u001b[1m0s\u001b[0m 6ms/step - loss: 0.0677 - mse: 0.0677 - val_loss: 0.0195 - val_mse: 0.0195\n",
            "Epoch 12/100\n",
            "\u001b[1m40/40\u001b[0m \u001b[32m━━━━━━━━━━━━━━━━━━━━\u001b[0m\u001b[37m\u001b[0m \u001b[1m0s\u001b[0m 6ms/step - loss: 0.0628 - mse: 0.0628 - val_loss: 0.0231 - val_mse: 0.0231\n",
            "Epoch 13/100\n",
            "\u001b[1m40/40\u001b[0m \u001b[32m━━━━━━━━━━━━━━━━━━━━\u001b[0m\u001b[37m\u001b[0m \u001b[1m0s\u001b[0m 6ms/step - loss: 0.0610 - mse: 0.0610 - val_loss: 0.0183 - val_mse: 0.0183\n",
            "Epoch 14/100\n",
            "\u001b[1m40/40\u001b[0m \u001b[32m━━━━━━━━━━━━━━━━━━━━\u001b[0m\u001b[37m\u001b[0m \u001b[1m0s\u001b[0m 6ms/step - loss: 0.0479 - mse: 0.0479 - val_loss: 0.0232 - val_mse: 0.0232\n",
            "Epoch 15/100\n",
            "\u001b[1m40/40\u001b[0m \u001b[32m━━━━━━━━━━━━━━━━━━━━\u001b[0m\u001b[37m\u001b[0m \u001b[1m0s\u001b[0m 6ms/step - loss: 0.0524 - mse: 0.0524 - val_loss: 0.0162 - val_mse: 0.0162\n",
            "Epoch 16/100\n",
            "\u001b[1m40/40\u001b[0m \u001b[32m━━━━━━━━━━━━━━━━━━━━\u001b[0m\u001b[37m\u001b[0m \u001b[1m0s\u001b[0m 7ms/step - loss: 0.0568 - mse: 0.0568 - val_loss: 0.0208 - val_mse: 0.0208\n",
            "Epoch 17/100\n",
            "\u001b[1m40/40\u001b[0m \u001b[32m━━━━━━━━━━━━━━━━━━━━\u001b[0m\u001b[37m\u001b[0m \u001b[1m0s\u001b[0m 6ms/step - loss: 0.0489 - mse: 0.0489 - val_loss: 0.0193 - val_mse: 0.0193\n",
            "Epoch 18/100\n",
            "\u001b[1m40/40\u001b[0m \u001b[32m━━━━━━━━━━━━━━━━━━━━\u001b[0m\u001b[37m\u001b[0m \u001b[1m0s\u001b[0m 6ms/step - loss: 0.0493 - mse: 0.0493 - val_loss: 0.0142 - val_mse: 0.0142\n",
            "Epoch 19/100\n",
            "\u001b[1m40/40\u001b[0m \u001b[32m━━━━━━━━━━━━━━━━━━━━\u001b[0m\u001b[37m\u001b[0m \u001b[1m0s\u001b[0m 7ms/step - loss: 0.0414 - mse: 0.0414 - val_loss: 0.0103 - val_mse: 0.0103\n",
            "Epoch 20/100\n",
            "\u001b[1m40/40\u001b[0m \u001b[32m━━━━━━━━━━━━━━━━━━━━\u001b[0m\u001b[37m\u001b[0m \u001b[1m0s\u001b[0m 7ms/step - loss: 0.0442 - mse: 0.0442 - val_loss: 0.0089 - val_mse: 0.0089\n",
            "Epoch 21/100\n",
            "\u001b[1m40/40\u001b[0m \u001b[32m━━━━━━━━━━━━━━━━━━━━\u001b[0m\u001b[37m\u001b[0m \u001b[1m0s\u001b[0m 6ms/step - loss: 0.0406 - mse: 0.0406 - val_loss: 0.0129 - val_mse: 0.0129\n",
            "Epoch 22/100\n",
            "\u001b[1m40/40\u001b[0m \u001b[32m━━━━━━━━━━━━━━━━━━━━\u001b[0m\u001b[37m\u001b[0m \u001b[1m0s\u001b[0m 6ms/step - loss: 0.0431 - mse: 0.0431 - val_loss: 0.0168 - val_mse: 0.0168\n",
            "Epoch 23/100\n",
            "\u001b[1m40/40\u001b[0m \u001b[32m━━━━━━━━━━━━━━━━━━━━\u001b[0m\u001b[37m\u001b[0m \u001b[1m0s\u001b[0m 7ms/step - loss: 0.0407 - mse: 0.0407 - val_loss: 0.0106 - val_mse: 0.0106\n",
            "Epoch 24/100\n",
            "\u001b[1m40/40\u001b[0m \u001b[32m━━━━━━━━━━━━━━━━━━━━\u001b[0m\u001b[37m\u001b[0m \u001b[1m0s\u001b[0m 6ms/step - loss: 0.0352 - mse: 0.0352 - val_loss: 0.0105 - val_mse: 0.0105\n",
            "Epoch 25/100\n",
            "\u001b[1m40/40\u001b[0m \u001b[32m━━━━━━━━━━━━━━━━━━━━\u001b[0m\u001b[37m\u001b[0m \u001b[1m0s\u001b[0m 6ms/step - loss: 0.0332 - mse: 0.0332 - val_loss: 0.0093 - val_mse: 0.0093\n",
            "Epoch 26/100\n",
            "\u001b[1m40/40\u001b[0m \u001b[32m━━━━━━━━━━━━━━━━━━━━\u001b[0m\u001b[37m\u001b[0m \u001b[1m0s\u001b[0m 6ms/step - loss: 0.0377 - mse: 0.0377 - val_loss: 0.0093 - val_mse: 0.0093\n",
            "Epoch 27/100\n",
            "\u001b[1m40/40\u001b[0m \u001b[32m━━━━━━━━━━━━━━━━━━━━\u001b[0m\u001b[37m\u001b[0m \u001b[1m0s\u001b[0m 7ms/step - loss: 0.0366 - mse: 0.0366 - val_loss: 0.0103 - val_mse: 0.0103\n",
            "Epoch 28/100\n",
            "\u001b[1m40/40\u001b[0m \u001b[32m━━━━━━━━━━━━━━━━━━━━\u001b[0m\u001b[37m\u001b[0m \u001b[1m0s\u001b[0m 6ms/step - loss: 0.0371 - mse: 0.0371 - val_loss: 0.0074 - val_mse: 0.0074\n",
            "Epoch 29/100\n",
            "\u001b[1m40/40\u001b[0m \u001b[32m━━━━━━━━━━━━━━━━━━━━\u001b[0m\u001b[37m\u001b[0m \u001b[1m0s\u001b[0m 8ms/step - loss: 0.0333 - mse: 0.0333 - val_loss: 0.0106 - val_mse: 0.0106\n",
            "Epoch 30/100\n",
            "\u001b[1m40/40\u001b[0m \u001b[32m━━━━━━━━━━━━━━━━━━━━\u001b[0m\u001b[37m\u001b[0m \u001b[1m0s\u001b[0m 6ms/step - loss: 0.0351 - mse: 0.0351 - val_loss: 0.0072 - val_mse: 0.0072\n",
            "Epoch 31/100\n",
            "\u001b[1m40/40\u001b[0m \u001b[32m━━━━━━━━━━━━━━━━━━━━\u001b[0m\u001b[37m\u001b[0m \u001b[1m0s\u001b[0m 7ms/step - loss: 0.0369 - mse: 0.0369 - val_loss: 0.0087 - val_mse: 0.0087\n",
            "Epoch 32/100\n",
            "\u001b[1m40/40\u001b[0m \u001b[32m━━━━━━━━━━━━━━━━━━━━\u001b[0m\u001b[37m\u001b[0m \u001b[1m0s\u001b[0m 7ms/step - loss: 0.0326 - mse: 0.0326 - val_loss: 0.0063 - val_mse: 0.0063\n",
            "Epoch 33/100\n",
            "\u001b[1m40/40\u001b[0m \u001b[32m━━━━━━━━━━━━━━━━━━━━\u001b[0m\u001b[37m\u001b[0m \u001b[1m0s\u001b[0m 7ms/step - loss: 0.0362 - mse: 0.0362 - val_loss: 0.0068 - val_mse: 0.0068\n",
            "Epoch 34/100\n",
            "\u001b[1m40/40\u001b[0m \u001b[32m━━━━━━━━━━━━━━━━━━━━\u001b[0m\u001b[37m\u001b[0m \u001b[1m0s\u001b[0m 7ms/step - loss: 0.0337 - mse: 0.0337 - val_loss: 0.0065 - val_mse: 0.0065\n",
            "Epoch 35/100\n",
            "\u001b[1m40/40\u001b[0m \u001b[32m━━━━━━━━━━━━━━━━━━━━\u001b[0m\u001b[37m\u001b[0m \u001b[1m0s\u001b[0m 6ms/step - loss: 0.0337 - mse: 0.0337 - val_loss: 0.0072 - val_mse: 0.0072\n",
            "Epoch 36/100\n",
            "\u001b[1m40/40\u001b[0m \u001b[32m━━━━━━━━━━━━━━━━━━━━\u001b[0m\u001b[37m\u001b[0m \u001b[1m0s\u001b[0m 7ms/step - loss: 0.0316 - mse: 0.0316 - val_loss: 0.0092 - val_mse: 0.0092\n",
            "Epoch 37/100\n",
            "\u001b[1m40/40\u001b[0m \u001b[32m━━━━━━━━━━━━━━━━━━━━\u001b[0m\u001b[37m\u001b[0m \u001b[1m0s\u001b[0m 6ms/step - loss: 0.0335 - mse: 0.0335 - val_loss: 0.0074 - val_mse: 0.0074\n",
            "Epoch 38/100\n",
            "\u001b[1m40/40\u001b[0m \u001b[32m━━━━━━━━━━━━━━━━━━━━\u001b[0m\u001b[37m\u001b[0m \u001b[1m0s\u001b[0m 6ms/step - loss: 0.0305 - mse: 0.0305 - val_loss: 0.0061 - val_mse: 0.0061\n",
            "Epoch 39/100\n",
            "\u001b[1m40/40\u001b[0m \u001b[32m━━━━━━━━━━━━━━━━━━━━\u001b[0m\u001b[37m\u001b[0m \u001b[1m0s\u001b[0m 9ms/step - loss: 0.0331 - mse: 0.0331 - val_loss: 0.0068 - val_mse: 0.0068\n",
            "Epoch 40/100\n",
            "\u001b[1m40/40\u001b[0m \u001b[32m━━━━━━━━━━━━━━━━━━━━\u001b[0m\u001b[37m\u001b[0m \u001b[1m0s\u001b[0m 8ms/step - loss: 0.0333 - mse: 0.0333 - val_loss: 0.0060 - val_mse: 0.0060\n",
            "Epoch 41/100\n",
            "\u001b[1m40/40\u001b[0m \u001b[32m━━━━━━━━━━━━━━━━━━━━\u001b[0m\u001b[37m\u001b[0m \u001b[1m1s\u001b[0m 11ms/step - loss: 0.0319 - mse: 0.0319 - val_loss: 0.0063 - val_mse: 0.0063\n",
            "Epoch 42/100\n",
            "\u001b[1m40/40\u001b[0m \u001b[32m━━━━━━━━━━━━━━━━━━━━\u001b[0m\u001b[37m\u001b[0m \u001b[1m1s\u001b[0m 10ms/step - loss: 0.0371 - mse: 0.0371 - val_loss: 0.0090 - val_mse: 0.0090\n",
            "Epoch 43/100\n",
            "\u001b[1m40/40\u001b[0m \u001b[32m━━━━━━━━━━━━━━━━━━━━\u001b[0m\u001b[37m\u001b[0m \u001b[1m1s\u001b[0m 11ms/step - loss: 0.0350 - mse: 0.0350 - val_loss: 0.0079 - val_mse: 0.0079\n",
            "Epoch 44/100\n",
            "\u001b[1m40/40\u001b[0m \u001b[32m━━━━━━━━━━━━━━━━━━━━\u001b[0m\u001b[37m\u001b[0m \u001b[1m1s\u001b[0m 12ms/step - loss: 0.0339 - mse: 0.0339 - val_loss: 0.0081 - val_mse: 0.0081\n",
            "Epoch 45/100\n",
            "\u001b[1m40/40\u001b[0m \u001b[32m━━━━━━━━━━━━━━━━━━━━\u001b[0m\u001b[37m\u001b[0m \u001b[1m0s\u001b[0m 11ms/step - loss: 0.0303 - mse: 0.0303 - val_loss: 0.0062 - val_mse: 0.0062\n",
            "Epoch 46/100\n",
            "\u001b[1m40/40\u001b[0m \u001b[32m━━━━━━━━━━━━━━━━━━━━\u001b[0m\u001b[37m\u001b[0m \u001b[1m0s\u001b[0m 11ms/step - loss: 0.0312 - mse: 0.0312 - val_loss: 0.0085 - val_mse: 0.0085\n",
            "Epoch 47/100\n",
            "\u001b[1m40/40\u001b[0m \u001b[32m━━━━━━━━━━━━━━━━━━━━\u001b[0m\u001b[37m\u001b[0m \u001b[1m0s\u001b[0m 11ms/step - loss: 0.0304 - mse: 0.0304 - val_loss: 0.0063 - val_mse: 0.0063\n",
            "Epoch 48/100\n",
            "\u001b[1m40/40\u001b[0m \u001b[32m━━━━━━━━━━━━━━━━━━━━\u001b[0m\u001b[37m\u001b[0m \u001b[1m0s\u001b[0m 7ms/step - loss: 0.0324 - mse: 0.0324 - val_loss: 0.0065 - val_mse: 0.0065\n",
            "Epoch 49/100\n",
            "\u001b[1m40/40\u001b[0m \u001b[32m━━━━━━━━━━━━━━━━━━━━\u001b[0m\u001b[37m\u001b[0m \u001b[1m1s\u001b[0m 6ms/step - loss: 0.0300 - mse: 0.0300 - val_loss: 0.0058 - val_mse: 0.0058\n",
            "Epoch 50/100\n",
            "\u001b[1m40/40\u001b[0m \u001b[32m━━━━━━━━━━━━━━━━━━━━\u001b[0m\u001b[37m\u001b[0m \u001b[1m0s\u001b[0m 6ms/step - loss: 0.0283 - mse: 0.0283 - val_loss: 0.0051 - val_mse: 0.0051\n",
            "Epoch 51/100\n",
            "\u001b[1m40/40\u001b[0m \u001b[32m━━━━━━━━━━━━━━━━━━━━\u001b[0m\u001b[37m\u001b[0m \u001b[1m0s\u001b[0m 7ms/step - loss: 0.0329 - mse: 0.0329 - val_loss: 0.0060 - val_mse: 0.0060\n",
            "Epoch 52/100\n",
            "\u001b[1m40/40\u001b[0m \u001b[32m━━━━━━━━━━━━━━━━━━━━\u001b[0m\u001b[37m\u001b[0m \u001b[1m0s\u001b[0m 7ms/step - loss: 0.0260 - mse: 0.0260 - val_loss: 0.0064 - val_mse: 0.0064\n",
            "Epoch 53/100\n",
            "\u001b[1m40/40\u001b[0m \u001b[32m━━━━━━━━━━━━━━━━━━━━\u001b[0m\u001b[37m\u001b[0m \u001b[1m0s\u001b[0m 7ms/step - loss: 0.0312 - mse: 0.0312 - val_loss: 0.0093 - val_mse: 0.0093\n",
            "Epoch 54/100\n",
            "\u001b[1m40/40\u001b[0m \u001b[32m━━━━━━━━━━━━━━━━━━━━\u001b[0m\u001b[37m\u001b[0m \u001b[1m0s\u001b[0m 7ms/step - loss: 0.0324 - mse: 0.0324 - val_loss: 0.0068 - val_mse: 0.0068\n",
            "Epoch 55/100\n",
            "\u001b[1m40/40\u001b[0m \u001b[32m━━━━━━━━━━━━━━━━━━━━\u001b[0m\u001b[37m\u001b[0m \u001b[1m1s\u001b[0m 6ms/step - loss: 0.0278 - mse: 0.0278 - val_loss: 0.0066 - val_mse: 0.0066\n",
            "Epoch 56/100\n",
            "\u001b[1m40/40\u001b[0m \u001b[32m━━━━━━━━━━━━━━━━━━━━\u001b[0m\u001b[37m\u001b[0m \u001b[1m0s\u001b[0m 6ms/step - loss: 0.0301 - mse: 0.0301 - val_loss: 0.0057 - val_mse: 0.0057\n",
            "Epoch 57/100\n",
            "\u001b[1m40/40\u001b[0m \u001b[32m━━━━━━━━━━━━━━━━━━━━\u001b[0m\u001b[37m\u001b[0m \u001b[1m0s\u001b[0m 6ms/step - loss: 0.0302 - mse: 0.0302 - val_loss: 0.0060 - val_mse: 0.0060\n",
            "Epoch 58/100\n",
            "\u001b[1m40/40\u001b[0m \u001b[32m━━━━━━━━━━━━━━━━━━━━\u001b[0m\u001b[37m\u001b[0m \u001b[1m0s\u001b[0m 7ms/step - loss: 0.0304 - mse: 0.0304 - val_loss: 0.0064 - val_mse: 0.0064\n",
            "Epoch 59/100\n",
            "\u001b[1m40/40\u001b[0m \u001b[32m━━━━━━━━━━━━━━━━━━━━\u001b[0m\u001b[37m\u001b[0m \u001b[1m1s\u001b[0m 7ms/step - loss: 0.0277 - mse: 0.0277 - val_loss: 0.0066 - val_mse: 0.0066\n",
            "Epoch 60/100\n",
            "\u001b[1m40/40\u001b[0m \u001b[32m━━━━━━━━━━━━━━━━━━━━\u001b[0m\u001b[37m\u001b[0m \u001b[1m0s\u001b[0m 7ms/step - loss: 0.0323 - mse: 0.0323 - val_loss: 0.0063 - val_mse: 0.0063\n",
            "\u001b[1m13/13\u001b[0m \u001b[32m━━━━━━━━━━━━━━━━━━━━\u001b[0m\u001b[37m\u001b[0m \u001b[1m1s\u001b[0m 25ms/step\n",
            "RNN Metrics:\n",
            "MSE: 0.005212672004019509\n",
            "RMSE: 0.07219883658355936\n",
            "MAE: 0.05874103913217809\n",
            "R²: 0.9946890806137907\n",
            "Explained Variance: 0.9946957327339899\n"
          ]
        },
        {
          "output_type": "display_data",
          "data": {
            "text/plain": [
              "<Figure size 1200x600 with 2 Axes>"
            ],
            "image/png": "[encoded data removed]"
          },
          "metadata": {}
        }
      ]
    },
    {
      "cell_type": "markdown",
      "source": [
        "# **So sánh và đánh giá các mô hình**"
      ],
      "metadata": {
        "id": "8G3DRbqoHOm-"
      }
    },
    {
      "cell_type": "code",
      "source": [
        "import numpy as np\n",
        "import matplotlib.pyplot as plt\n",
        "\n",
        "# Tạo các giá trị đánh giá cho mỗi mô hình (theo kết quả đã tính toán ở trên)\n",
        "metrics = ['MSE', 'RMSE', 'MAE', 'R²', 'Explained Variance']\n",
        "model_names = ['Linear Regression', 'SVM', 'Decision Tree', 'Random Forest', 'FFNN', 'RNN']\n",
        "\n",
        "# Tạo mảng 2D chứa các giá trị đánh giá cho từng mô hình và chỉ số\n",
        "results = np.array([\n",
        "    [mse_lr, rmse_lr, mae_lr, r2_lr, explained_var_lr],\n",
        "    [mse_svm, rmse_svm, mae_svm, r2_svm, explained_var_svm],\n",
        "    [mse_dt, rmse_dt, mae_dt, r2_dt, explained_var_dt],\n",
        "    [mse_rf, rmse_rf, mae_rf, r2_rf, explained_var_rf],\n",
        "    [mse_ffnn, rmse_ffnn, mae_ffnn, r2_ffnn, explained_var_ffnn],\n",
        "    [mse_rnn, rmse_rnn, mae_rnn, r2_rnn, explained_var_rnn]\n",
        "])\n",
        "\n",
        "# Vẽ biểu đồ so sánh\n",
        "fig, ax = plt.subplots(figsize=(10, 6))\n",
        "\n",
        "# Vị trí cho các mô hình\n",
        "x = np.arange(len(model_names))\n",
        "\n",
        "# Chiều rộng của các cột\n",
        "width = 0.15\n",
        "\n",
        "# Tạo các cột cho từng chỉ số\n",
        "for i, metric in enumerate(metrics):\n",
        "    ax.bar(x + i * width, results[:, i], width, label=metric)\n",
        "\n",
        "# Thêm nhãn và tiêu đề\n",
        "ax.set_xlabel('Models')\n",
        "ax.set_ylabel('Metric Values')\n",
        "ax.set_title('Model Comparison by Metrics')\n",
        "ax.set_xticks(x + width * 2)  # Đặt tên mô hình ở giữa các nhóm cột\n",
        "ax.set_xticklabels(model_names, rotation=45, ha=\"right\")\n",
        "\n",
        "# Thêm legend\n",
        "ax.legend()\n",
        "\n",
        "# Hiển thị biểu đồ\n",
        "plt.tight_layout()\n",
        "plt.show()"
      ],
      "metadata": {
        "colab": {
          "base_uri": "https://localhost:8080/",
          "height": 607
        },
        "id": "UnhBp1m4GLrc",
        "outputId": "73e7afe1-0fd3-4db7-ef57-9938a7ae3060"
      },
      "execution_count": null,
      "outputs": [
        {
          "output_type": "display_data",
          "data": {
            "text/plain": [
              "<Figure size 1000x600 with 1 Axes>"
            ],
            "image/png": "[encoded data removed]"
          },
          "metadata": {}
        }
      ]
    },
    {
      "cell_type": "markdown",
      "source": [
        "# **Câu 3**"
      ],
      "metadata": {
        "id": "ZWjc55aDK7vl"
      }
    },
    {
      "cell_type": "code",
      "source": [
        "!pip install tensorflow matplotlib"
      ],
      "metadata": {
        "colab": {
          "base_uri": "https://localhost:8080/"
        },
        "id": "8CWk1RwrK9Uf",
        "outputId": "1299e58d-d680-441f-a9aa-de1655d672c4",
        "collapsed": true
      },
      "execution_count": null,
      "outputs": [
        {
          "output_type": "stream",
          "name": "stdout",
          "text": [
            "Requirement already satisfied: tensorflow in /usr/local/lib/python3.10/dist-packages (2.17.1)\n",
            "Requirement already satisfied: matplotlib in /usr/local/lib/python3.10/dist-packages (3.8.0)\n",
            "Requirement already satisfied: absl-py>=1.0.0 in /usr/local/lib/python3.10/dist-packages (from tensorflow) (1.4.0)\n",
            "Requirement already satisfied: astunparse>=1.6.0 in /usr/local/lib/python3.10/dist-packages (from tensorflow) (1.6.3)\n",
            "Requirement already satisfied: flatbuffers>=24.3.25 in /usr/local/lib/python3.10/dist-packages (from tensorflow) (24.3.25)\n",
            "Requirement already satisfied: gast!=0.5.0,!=0.5.1,!=0.5.2,>=0.2.1 in /usr/local/lib/python3.10/dist-packages (from tensorflow) (0.6.0)\n",
            "Requirement already satisfied: google-pasta>=0.1.1 in /usr/local/lib/python3.10/dist-packages (from tensorflow) (0.2.0)\n",
            "Requirement already satisfied: h5py>=3.10.0 in /usr/local/lib/python3.10/dist-packages (from tensorflow) (3.12.1)\n",
            "Requirement already satisfied: libclang>=13.0.0 in /usr/local/lib/python3.10/dist-packages (from tensorflow) (18.1.1)\n",
            "Requirement already satisfied: ml-dtypes<0.5.0,>=0.3.1 in /usr/local/lib/python3.10/dist-packages (from tensorflow) (0.4.1)\n",
            "Requirement already satisfied: opt-einsum>=2.3.2 in /usr/local/lib/python3.10/dist-packages (from tensorflow) (3.4.0)\n",
            "Requirement already satisfied: packaging in /usr/local/lib/python3.10/dist-packages (from tensorflow) (24.2)\n",
            "Requirement already satisfied: protobuf!=4.21.0,!=4.21.1,!=4.21.2,!=4.21.3,!=4.21.4,!=4.21.5,<5.0.0dev,>=3.20.3 in /usr/local/lib/python3.10/dist-packages (from tensorflow) (4.25.5)\n",
            "Requirement already satisfied: requests<3,>=2.21.0 in /usr/local/lib/python3.10/dist-packages (from tensorflow) (2.32.3)\n",
            "Requirement already satisfied: setuptools in /usr/local/lib/python3.10/dist-packages (from tensorflow) (75.1.0)\n",
            "Requirement already satisfied: six>=1.12.0 in /usr/local/lib/python3.10/dist-packages (from tensorflow) (1.16.0)\n",
            "Requirement already satisfied: termcolor>=1.1.0 in /usr/local/lib/python3.10/dist-packages (from tensorflow) (2.5.0)\n",
            "Requirement already satisfied: typing-extensions>=3.6.6 in /usr/local/lib/python3.10/dist-packages (from tensorflow) (4.12.2)\n",
            "Requirement already satisfied: wrapt>=1.11.0 in /usr/local/lib/python3.10/dist-packages (from tensorflow) (1.17.0)\n",
            "Requirement already satisfied: grpcio<2.0,>=1.24.3 in /usr/local/lib/python3.10/dist-packages (from tensorflow) (1.68.1)\n",
            "Requirement already satisfied: tensorboard<2.18,>=2.17 in /usr/local/lib/python3.10/dist-packages (from tensorflow) (2.17.1)\n",
            "Requirement already satisfied: keras>=3.2.0 in /usr/local/lib/python3.10/dist-packages (from tensorflow) (3.5.0)\n",
            "Requirement already satisfied: tensorflow-io-gcs-filesystem>=0.23.1 in /usr/local/lib/python3.10/dist-packages (from tensorflow) (0.37.1)\n",
            "Requirement already satisfied: numpy<2.0.0,>=1.23.5 in /usr/local/lib/python3.10/dist-packages (from tensorflow) (1.26.4)\n",
            "Requirement already satisfied: contourpy>=1.0.1 in /usr/local/lib/python3.10/dist-packages (from matplotlib) (1.3.1)\n",
            "Requirement already satisfied: cycler>=0.10 in /usr/local/lib/python3.10/dist-packages (from matplotlib) (0.12.1)\n",
            "Requirement already satisfied: fonttools>=4.22.0 in /usr/local/lib/python3.10/dist-packages (from matplotlib) (4.55.1)\n",
            "Requirement already satisfied: kiwisolver>=1.0.1 in /usr/local/lib/python3.10/dist-packages (from matplotlib) (1.4.7)\n",
            "Requirement already satisfied: pillow>=6.2.0 in /usr/local/lib/python3.10/dist-packages (from matplotlib) (11.0.0)\n",
            "Requirement already satisfied: pyparsing>=2.3.1 in /usr/local/lib/python3.10/dist-packages (from matplotlib) (3.2.0)\n",
            "Requirement already satisfied: python-dateutil>=2.7 in /usr/local/lib/python3.10/dist-packages (from matplotlib) (2.8.2)\n",
            "Requirement already satisfied: wheel<1.0,>=0.23.0 in /usr/local/lib/python3.10/dist-packages (from astunparse>=1.6.0->tensorflow) (0.45.1)\n",
            "Requirement already satisfied: rich in /usr/local/lib/python3.10/dist-packages (from keras>=3.2.0->tensorflow) (13.9.4)\n",
            "Requirement already satisfied: namex in /usr/local/lib/python3.10/dist-packages (from keras>=3.2.0->tensorflow) (0.0.8)\n",
            "Requirement already satisfied: optree in /usr/local/lib/python3.10/dist-packages (from keras>=3.2.0->tensorflow) (0.13.1)\n",
            "Requirement already satisfied: charset-normalizer<4,>=2 in /usr/local/lib/python3.10/dist-packages (from requests<3,>=2.21.0->tensorflow) (3.4.0)\n",
            "Requirement already satisfied: idna<4,>=2.5 in /usr/local/lib/python3.10/dist-packages (from requests<3,>=2.21.0->tensorflow) (3.10)\n",
            "Requirement already satisfied: urllib3<3,>=1.21.1 in /usr/local/lib/python3.10/dist-packages (from requests<3,>=2.21.0->tensorflow) (2.2.3)\n",
            "Requirement already satisfied: certifi>=2017.4.17 in /usr/local/lib/python3.10/dist-packages (from requests<3,>=2.21.0->tensorflow) (2024.8.30)\n",
            "Requirement already satisfied: markdown>=2.6.8 in /usr/local/lib/python3.10/dist-packages (from tensorboard<2.18,>=2.17->tensorflow) (3.7)\n",
            "Requirement already satisfied: tensorboard-data-server<0.8.0,>=0.7.0 in /usr/local/lib/python3.10/dist-packages (from tensorboard<2.18,>=2.17->tensorflow) (0.7.2)\n",
            "Requirement already satisfied: werkzeug>=1.0.1 in /usr/local/lib/python3.10/dist-packages (from tensorboard<2.18,>=2.17->tensorflow) (3.1.3)\n",
            "Requirement already satisfied: MarkupSafe>=2.1.1 in /usr/local/lib/python3.10/dist-packages (from werkzeug>=1.0.1->tensorboard<2.18,>=2.17->tensorflow) (3.0.2)\n",
            "Requirement already satisfied: markdown-it-py>=2.2.0 in /usr/local/lib/python3.10/dist-packages (from rich->keras>=3.2.0->tensorflow) (3.0.0)\n",
            "Requirement already satisfied: pygments<3.0.0,>=2.13.0 in /usr/local/lib/python3.10/dist-packages (from rich->keras>=3.2.0->tensorflow) (2.18.0)\n",
            "Requirement already satisfied: mdurl~=0.1 in /usr/local/lib/python3.10/dist-packages (from markdown-it-py>=2.2.0->rich->keras>=3.2.0->tensorflow) (0.1.2)\n"
          ]
        }
      ]
    },
    {
      "cell_type": "code",
      "source": [
        "!pip install tensorflow matplotlib numpy"
      ],
      "metadata": {
        "colab": {
          "base_uri": "https://localhost:8080/"
        },
        "id": "gGR2Ry0nNWmf",
        "outputId": "20e11135-3670-4e0f-8cc2-6cdd4b2e1f2e",
        "collapsed": true
      },
      "execution_count": null,
      "outputs": [
        {
          "output_type": "stream",
          "name": "stdout",
          "text": [
            "Requirement already satisfied: tensorflow in /usr/local/lib/python3.10/dist-packages (2.17.1)\n",
            "Requirement already satisfied: matplotlib in /usr/local/lib/python3.10/dist-packages (3.8.0)\n",
            "Requirement already satisfied: numpy in /usr/local/lib/python3.10/dist-packages (1.26.4)\n",
            "Requirement already satisfied: absl-py>=1.0.0 in /usr/local/lib/python3.10/dist-packages (from tensorflow) (1.4.0)\n",
            "Requirement already satisfied: astunparse>=1.6.0 in /usr/local/lib/python3.10/dist-packages (from tensorflow) (1.6.3)\n",
            "Requirement already satisfied: flatbuffers>=24.3.25 in /usr/local/lib/python3.10/dist-packages (from tensorflow) (24.3.25)\n",
            "Requirement already satisfied: gast!=0.5.0,!=0.5.1,!=0.5.2,>=0.2.1 in /usr/local/lib/python3.10/dist-packages (from tensorflow) (0.6.0)\n",
            "Requirement already satisfied: google-pasta>=0.1.1 in /usr/local/lib/python3.10/dist-packages (from tensorflow) (0.2.0)\n",
            "Requirement already satisfied: h5py>=3.10.0 in /usr/local/lib/python3.10/dist-packages (from tensorflow) (3.12.1)\n",
            "Requirement already satisfied: libclang>=13.0.0 in /usr/local/lib/python3.10/dist-packages (from tensorflow) (18.1.1)\n",
            "Requirement already satisfied: ml-dtypes<0.5.0,>=0.3.1 in /usr/local/lib/python3.10/dist-packages (from tensorflow) (0.4.1)\n",
            "Requirement already satisfied: opt-einsum>=2.3.2 in /usr/local/lib/python3.10/dist-packages (from tensorflow) (3.4.0)\n",
            "Requirement already satisfied: packaging in /usr/local/lib/python3.10/dist-packages (from tensorflow) (24.2)\n",
            "Requirement already satisfied: protobuf!=4.21.0,!=4.21.1,!=4.21.2,!=4.21.3,!=4.21.4,!=4.21.5,<5.0.0dev,>=3.20.3 in /usr/local/lib/python3.10/dist-packages (from tensorflow) (4.25.5)\n",
            "Requirement already satisfied: requests<3,>=2.21.0 in /usr/local/lib/python3.10/dist-packages (from tensorflow) (2.32.3)\n",
            "Requirement already satisfied: setuptools in /usr/local/lib/python3.10/dist-packages (from tensorflow) (75.1.0)\n",
            "Requirement already satisfied: six>=1.12.0 in /usr/local/lib/python3.10/dist-packages (from tensorflow) (1.16.0)\n",
            "Requirement already satisfied: termcolor>=1.1.0 in /usr/local/lib/python3.10/dist-packages (from tensorflow) (2.5.0)\n",
            "Requirement already satisfied: typing-extensions>=3.6.6 in /usr/local/lib/python3.10/dist-packages (from tensorflow) (4.12.2)\n",
            "Requirement already satisfied: wrapt>=1.11.0 in /usr/local/lib/python3.10/dist-packages (from tensorflow) (1.17.0)\n",
            "Requirement already satisfied: grpcio<2.0,>=1.24.3 in /usr/local/lib/python3.10/dist-packages (from tensorflow) (1.68.1)\n",
            "Requirement already satisfied: tensorboard<2.18,>=2.17 in /usr/local/lib/python3.10/dist-packages (from tensorflow) (2.17.1)\n",
            "Requirement already satisfied: keras>=3.2.0 in /usr/local/lib/python3.10/dist-packages (from tensorflow) (3.5.0)\n",
            "Requirement already satisfied: tensorflow-io-gcs-filesystem>=0.23.1 in /usr/local/lib/python3.10/dist-packages (from tensorflow) (0.37.1)\n",
            "Requirement already satisfied: contourpy>=1.0.1 in /usr/local/lib/python3.10/dist-packages (from matplotlib) (1.3.1)\n",
            "Requirement already satisfied: cycler>=0.10 in /usr/local/lib/python3.10/dist-packages (from matplotlib) (0.12.1)\n",
            "Requirement already satisfied: fonttools>=4.22.0 in /usr/local/lib/python3.10/dist-packages (from matplotlib) (4.55.1)\n",
            "Requirement already satisfied: kiwisolver>=1.0.1 in /usr/local/lib/python3.10/dist-packages (from matplotlib) (1.4.7)\n",
            "Requirement already satisfied: pillow>=6.2.0 in /usr/local/lib/python3.10/dist-packages (from matplotlib) (11.0.0)\n",
            "Requirement already satisfied: pyparsing>=2.3.1 in /usr/local/lib/python3.10/dist-packages (from matplotlib) (3.2.0)\n",
            "Requirement already satisfied: python-dateutil>=2.7 in /usr/local/lib/python3.10/dist-packages (from matplotlib) (2.8.2)\n",
            "Requirement already satisfied: wheel<1.0,>=0.23.0 in /usr/local/lib/python3.10/dist-packages (from astunparse>=1.6.0->tensorflow) (0.45.1)\n",
            "Requirement already satisfied: rich in /usr/local/lib/python3.10/dist-packages (from keras>=3.2.0->tensorflow) (13.9.4)\n",
            "Requirement already satisfied: namex in /usr/local/lib/python3.10/dist-packages (from keras>=3.2.0->tensorflow) (0.0.8)\n",
            "Requirement already satisfied: optree in /usr/local/lib/python3.10/dist-packages (from keras>=3.2.0->tensorflow) (0.13.1)\n",
            "Requirement already satisfied: charset-normalizer<4,>=2 in /usr/local/lib/python3.10/dist-packages (from requests<3,>=2.21.0->tensorflow) (3.4.0)\n",
            "Requirement already satisfied: idna<4,>=2.5 in /usr/local/lib/python3.10/dist-packages (from requests<3,>=2.21.0->tensorflow) (3.10)\n",
            "Requirement already satisfied: urllib3<3,>=1.21.1 in /usr/local/lib/python3.10/dist-packages (from requests<3,>=2.21.0->tensorflow) (2.2.3)\n",
            "Requirement already satisfied: certifi>=2017.4.17 in /usr/local/lib/python3.10/dist-packages (from requests<3,>=2.21.0->tensorflow) (2024.8.30)\n",
            "Requirement already satisfied: markdown>=2.6.8 in /usr/local/lib/python3.10/dist-packages (from tensorboard<2.18,>=2.17->tensorflow) (3.7)\n",
            "Requirement already satisfied: tensorboard-data-server<0.8.0,>=0.7.0 in /usr/local/lib/python3.10/dist-packages (from tensorboard<2.18,>=2.17->tensorflow) (0.7.2)\n",
            "Requirement already satisfied: werkzeug>=1.0.1 in /usr/local/lib/python3.10/dist-packages (from tensorboard<2.18,>=2.17->tensorflow) (3.1.3)\n",
            "Requirement already satisfied: MarkupSafe>=2.1.1 in /usr/local/lib/python3.10/dist-packages (from werkzeug>=1.0.1->tensorboard<2.18,>=2.17->tensorflow) (3.0.2)\n",
            "Requirement already satisfied: markdown-it-py>=2.2.0 in /usr/local/lib/python3.10/dist-packages (from rich->keras>=3.2.0->tensorflow) (3.0.0)\n",
            "Requirement already satisfied: pygments<3.0.0,>=2.13.0 in /usr/local/lib/python3.10/dist-packages (from rich->keras>=3.2.0->tensorflow) (2.18.0)\n",
            "Requirement already satisfied: mdurl~=0.1 in /usr/local/lib/python3.10/dist-packages (from markdown-it-py>=2.2.0->rich->keras>=3.2.0->tensorflow) (0.1.2)\n"
          ]
        }
      ]
    },
    {
      "cell_type": "markdown",
      "source": [
        "Đường dẫn Bộ Dataset: https://www.kaggle.com/c/cifar-10/data\n"
      ],
      "metadata": {
        "id": "b14WWaanTsZT"
      }
    },
    {
      "cell_type": "code",
      "source": [
        "import tensorflow as tf\n",
        "from tensorflow.keras import datasets, layers, models\n",
        "import matplotlib.pyplot as plt\n",
        "\n",
        "# Tải bộ dữ liệu CIFAR-10 từ TensorFlow\n",
        "(train_images, train_labels), (test_images, test_labels) = datasets.cifar10.load_data()\n",
        "\n",
        "# Hiển thị thông tin bộ dữ liệu\n",
        "print(f\"Training data shape: {train_images.shape}\")\n",
        "print(f\"Testing data shape: {test_images.shape}\")\n",
        "\n",
        "# Chuẩn hóa dữ liệu (giảm giá trị pixel từ 0-255 về 0-1)\n",
        "train_images, test_images = train_images / 255.0, test_images / 255.0\n",
        "\n",
        "# Các nhãn cần được chuyển thành dạng one-hot encoding\n",
        "train_labels = tf.keras.utils.to_categorical(train_labels, num_classes=10)\n",
        "test_labels = tf.keras.utils.to_categorical(test_labels, num_classes=10)"
      ],
      "metadata": {
        "colab": {
          "base_uri": "https://localhost:8080/"
        },
        "id": "zeftjcttNws9",
        "outputId": "b352167d-4c58-40e6-f750-6ec95fb1a4c9"
      },
      "execution_count": null,
      "outputs": [
        {
          "output_type": "stream",
          "name": "stdout",
          "text": [
            "Downloading data from https://www.cs.toronto.edu/~kriz/cifar-10-python.tar.gz\n",
            "\u001b[1m170498071/170498071\u001b[0m \u001b[32m━━━━━━━━━━━━━━━━━━━━\u001b[0m\u001b[37m\u001b[0m \u001b[1m3s\u001b[0m 0us/step\n",
            "Training data shape: (50000, 32, 32, 3)\n",
            "Testing data shape: (10000, 32, 32, 3)\n"
          ]
        }
      ]
    },
    {
      "cell_type": "code",
      "source": [
        "from tensorflow.keras import layers, models\n",
        "\n",
        "# Mô hình CNN\n",
        "model = models.Sequential([\n",
        "    layers.Conv2D(64, (3, 3), activation='relu', input_shape=(32, 32, 3), padding='same'),\n",
        "    layers.MaxPooling2D((2, 2)),\n",
        "    layers.Conv2D(32, (3, 3), activation='relu', padding='same'),\n",
        "    layers.MaxPooling2D((2, 2)),\n",
        "    layers.Conv2D(32, (3, 3), activation='relu', padding='same'),\n",
        "    layers.Flatten(),\n",
        "    layers.Dense(10, activation='softmax')\n",
        "])\n",
        "\n",
        "# Biên dịch mô hình\n",
        "model.compile(optimizer='adam', loss='categorical_crossentropy', metrics=['accuracy'])\n",
        "\n",
        "# Huấn luyện mô hình\n",
        "history = model.fit(train_images, train_labels, epochs=10, validation_data=(test_images, test_labels))\n",
        "\n",
        "# Đánh giá mô hình\n",
        "test_loss, test_acc = model.evaluate(test_images, test_labels, verbose=2)"
      ],
      "metadata": {
        "colab": {
          "base_uri": "https://localhost:8080/"
        },
        "id": "QbvBqYm0ONvf",
        "outputId": "85917c0f-f379-43fc-da5c-172113de42c3"
      },
      "execution_count": null,
      "outputs": [
        {
          "output_type": "stream",
          "name": "stdout",
          "text": [
            "Epoch 1/10\n",
            "\u001b[1m1563/1563\u001b[0m \u001b[32m━━━━━━━━━━━━━━━━━━━━\u001b[0m\u001b[37m\u001b[0m \u001b[1m130s\u001b[0m 82ms/step - accuracy: 0.3777 - loss: 1.7209 - val_accuracy: 0.5749 - val_loss: 1.2116\n",
            "Epoch 2/10\n",
            "\u001b[1m1563/1563\u001b[0m \u001b[32m━━━━━━━━━━━━━━━━━━━━\u001b[0m\u001b[37m\u001b[0m \u001b[1m167s\u001b[0m 98ms/step - accuracy: 0.5954 - loss: 1.1546 - val_accuracy: 0.6170 - val_loss: 1.0917\n",
            "Epoch 3/10\n",
            "\u001b[1m1563/1563\u001b[0m \u001b[32m━━━━━━━━━━━━━━━━━━━━\u001b[0m\u001b[37m\u001b[0m \u001b[1m122s\u001b[0m 78ms/step - accuracy: 0.6566 - loss: 0.9833 - val_accuracy: 0.6684 - val_loss: 0.9539\n",
            "Epoch 4/10\n",
            "\u001b[1m1563/1563\u001b[0m \u001b[32m━━━━━━━━━━━━━━━━━━━━\u001b[0m\u001b[37m\u001b[0m \u001b[1m139s\u001b[0m 76ms/step - accuracy: 0.6924 - loss: 0.8910 - val_accuracy: 0.6692 - val_loss: 0.9650\n",
            "Epoch 5/10\n",
            "\u001b[1m1563/1563\u001b[0m \u001b[32m━━━━━━━━━━━━━━━━━━━━\u001b[0m\u001b[37m\u001b[0m \u001b[1m117s\u001b[0m 75ms/step - accuracy: 0.7140 - loss: 0.8204 - val_accuracy: 0.6815 - val_loss: 0.9320\n",
            "Epoch 6/10\n",
            "\u001b[1m1563/1563\u001b[0m \u001b[32m━━━━━━━━━━━━━━━━━━━━\u001b[0m\u001b[37m\u001b[0m \u001b[1m145s\u001b[0m 77ms/step - accuracy: 0.7373 - loss: 0.7640 - val_accuracy: 0.6967 - val_loss: 0.8886\n",
            "Epoch 7/10\n",
            "\u001b[1m1563/1563\u001b[0m \u001b[32m━━━━━━━━━━━━━━━━━━━━\u001b[0m\u001b[37m\u001b[0m \u001b[1m138s\u001b[0m 74ms/step - accuracy: 0.7454 - loss: 0.7325 - val_accuracy: 0.7077 - val_loss: 0.8611\n",
            "Epoch 8/10\n",
            "\u001b[1m1563/1563\u001b[0m \u001b[32m━━━━━━━━━━━━━━━━━━━━\u001b[0m\u001b[37m\u001b[0m \u001b[1m146s\u001b[0m 77ms/step - accuracy: 0.7596 - loss: 0.6939 - val_accuracy: 0.7009 - val_loss: 0.8886\n",
            "Epoch 9/10\n",
            "\u001b[1m1563/1563\u001b[0m \u001b[32m━━━━━━━━━━━━━━━━━━━━\u001b[0m\u001b[37m\u001b[0m \u001b[1m141s\u001b[0m 76ms/step - accuracy: 0.7702 - loss: 0.6624 - val_accuracy: 0.7031 - val_loss: 0.8860\n",
            "Epoch 10/10\n",
            "\u001b[1m1563/1563\u001b[0m \u001b[32m━━━━━━━━━━━━━━━━━━━━\u001b[0m\u001b[37m\u001b[0m \u001b[1m115s\u001b[0m 73ms/step - accuracy: 0.7754 - loss: 0.6441 - val_accuracy: 0.6949 - val_loss: 0.9318\n",
            "313/313 - 6s - 19ms/step - accuracy: 0.6949 - loss: 0.9318\n"
          ]
        }
      ]
    },
    {
      "cell_type": "code",
      "source": [
        "# Trực quan hóa độ chính xác\n",
        "plt.plot(history.history['accuracy'])\n",
        "plt.plot(history.history['val_accuracy'])\n",
        "plt.title('Model Accuracy')\n",
        "plt.xlabel('Epoch')\n",
        "plt.ylabel('Accuracy')\n",
        "plt.legend(['Train', 'Test'], loc='upper left')\n",
        "plt.show()\n",
        "\n",
        "# Trực quan hóa tổn thất\n",
        "plt.plot(history.history['loss'])\n",
        "plt.plot(history.history['val_loss'])\n",
        "plt.title('Model Loss')\n",
        "plt.xlabel('Epoch')\n",
        "plt.ylabel('Loss')\n",
        "plt.legend(['Train', 'Test'], loc='upper left')\n",
        "plt.show()"
      ],
      "metadata": {
        "colab": {
          "base_uri": "https://localhost:8080/",
          "height": 927
        },
        "id": "ybG2AuLYOSZp",
        "outputId": "dbb6660e-c160-4e4f-a58b-c2e5662ab239"
      },
      "execution_count": null,
      "outputs": [
        {
          "output_type": "display_data",
          "data": {
            "text/plain": [
              "<Figure size 640x480 with 1 Axes>"
            ],
            "image/png": "[encoded data removed]"
          },
          "metadata": {}
        },
        {
          "output_type": "display_data",
          "data": {
            "text/plain": [
              "<Figure size 640x480 with 1 Axes>"
            ],
            "image/png": "[encoded data removed]"
          },
          "metadata": {}
        }
      ]
    },
    {
      "cell_type": "code",
      "source": [
        "import numpy as np\n",
        "import matplotlib.pyplot as plt\n",
        "\n",
        "# Lấy một hình ảnh ngẫu nhiên từ bộ dữ liệu CIFAR-10\n",
        "index = 1000\n",
        "img = test_images[index:index + 1]\n",
        "\n",
        "# Dự đoán lớp của hình ảnh\n",
        "predictions = model.predict(img)\n",
        "\n",
        "# Lấy lớp có xác suất cao nhất\n",
        "predicted_class = np.argmax(predictions)\n",
        "print(predicted_class)\n",
        "\n",
        "# Danh sách tên các lớp\n",
        "class_names = ['airplane', 'automobile', 'bird', 'cat', 'deer', 'dog', 'frog', 'horse', 'ship', 'truck']\n",
        "\n",
        "# Hiển thị ảnh với chất lượng cao\n",
        "plt.imshow(test_images[index])\n",
        "plt.title(f\"Predicted class: {class_names[predicted_class]}\")\n",
        "plt.axis('off')\n",
        "plt.show()"
      ],
      "metadata": {
        "colab": {
          "base_uri": "https://localhost:8080/",
          "height": 463
        },
        "id": "RIHzsVIyPSWF",
        "outputId": "cb86297b-8790-45cb-d2d1-19e623de5050"
      },
      "execution_count": null,
      "outputs": [
        {
          "output_type": "stream",
          "name": "stdout",
          "text": [
            "\u001b[1m1/1\u001b[0m \u001b[32m━━━━━━━━━━━━━━━━━━━━\u001b[0m\u001b[37m\u001b[0m \u001b[1m0s\u001b[0m 38ms/step\n",
            "5\n"
          ]
        },
        {
          "output_type": "display_data",
          "data": {
            "text/plain": [
              "<Figure size 640x480 with 1 Axes>"
            ],
            "image/png": "[encoded data removed]"
          },
          "metadata": {}
        }
      ]
    }
  ]
}